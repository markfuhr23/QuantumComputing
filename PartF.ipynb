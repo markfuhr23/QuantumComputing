{
 "cells": [
  {
   "cell_type": "markdown",
   "metadata": {},
   "source": [
    "# Show that the Hamiltonian matrix is then given by ...\n",
    "\n",
    "easy, just calcualte the matrix elements <j,jz|H|j,jz>\n",
    "\n",
    "# Rewrite the Hamiltonian in terms of the Pauli psin amtrices.\n",
    "article shows how to do it for first matrix, by expressing the  Hamiltonian thorugh angular momentum operaters and then these by the individual spin basis\n",
    "Also in Week 9 notebook. Try to prove the form that is there. The article explains it pretty well in chapter 3 \"Efficient encoding scheme\"\n",
    "\n",
    "# Diagonalize thereafter, using classical methods, the above Hamiltonian matrices and find the eigenvalues as functions of the strength of the interaction V while keeping the single particle energies fixes.\n",
    "\n",
    "should be similar to part (b) although I dont know what \"keepin the single particle energies fiexed\" means.\n",
    "\n",
    "# Feel free to add the Hartree-Fock results as discussed in the lectures."
   ]
  },
  {
   "cell_type": "markdown",
   "metadata": {},
   "source": [
    "# Find expressions for j = 1 and j = 2 Hamiltonians in terms of pauli matrices"
   ]
  },
  {
   "cell_type": "code",
   "execution_count": 34,
   "metadata": {},
   "outputs": [
    {
     "name": "stdout",
     "output_type": "stream",
     "text": [
      "['IX', 'XI']\n",
      "['IY', 'YI']\n",
      "[[0.+0.j 1.+0.j 1.+0.j 0.+0.j]\n",
      " [0.+0.j 0.+0.j 0.+0.j 1.+0.j]\n",
      " [0.+0.j 0.+0.j 0.+0.j 1.+0.j]\n",
      " [0.+0.j 0.+0.j 0.+0.j 0.+0.j]]\n",
      "['IZ', 'ZI']\n",
      "['IX', 'XI']\n",
      "['IY', 'YI']\n",
      "['IX', 'XI']\n",
      "['IY', 'YI']\n",
      "['IX', 'XI']\n",
      "['IY', 'YI']\n",
      "['IX', 'XI']\n",
      "['IY', 'YI']\n",
      "['IX', 'XI']\n",
      "['IY', 'YI']\n",
      "['IX', 'XI']\n",
      "['IY', 'YI']\n",
      "['IX', 'XI']\n",
      "['IY', 'YI']\n",
      "['IX', 'XI']\n",
      "['IY', 'YI']\n",
      "Own H:  [[ 1.+0.j  0.+0.j  0.+0.j  0.+0.j]\n",
      " [ 0.+0.j  0.+0.j  0.+0.j  0.+0.j]\n",
      " [ 0.+0.j  0.+0.j  0.+0.j  0.+0.j]\n",
      " [ 0.+0.j  0.+0.j  0.+0.j -1.+0.j]]\n",
      "Hmorten :  [[ 1.+0.j  0.+0.j  0.+0.j -1.+0.j]\n",
      " [ 0.+0.j  0.+0.j  0.+0.j  0.+0.j]\n",
      " [ 0.+0.j  0.+0.j  0.+0.j  0.+0.j]\n",
      " [-1.+0.j  0.+0.j  0.+0.j -1.+0.j]]\n"
     ]
    }
   ],
   "source": [
    "import numpy as np\n",
    "import itertools\n",
    "\n",
    "# Define Pauli matrices\n",
    "I = np.array([[1, 0], [0, 1]])\n",
    "X = np.array([[0, 1], [1, 0]])\n",
    "Y = np.array([[0, -1j], [1j, 0]])\n",
    "Z = np.array([[1, 0], [0, -1]])\n",
    "# Define labels for the combinations of Pauli matrices\n",
    "labels2D = [\"\".join(combination) for combination in itertools.product(\"IXYZ\", repeat=2)]\n",
    "labels4D = [\"\".join(combination) for combination in itertools.product(\"IXYZ\", repeat=4)]\n",
    "# Create dictionaries to store Kronecker products for 2D and 4D cases\n",
    "products2D = {}\n",
    "products4D = {}\n",
    "\n",
    "# Calculate products and add to dictionary for 2D\n",
    "for label in labels2D:\n",
    "    kronecker_product = np.kron(eval(label[0]), eval(label[1]))\n",
    "    products2D[label] = kronecker_product\n",
    "\n",
    "# Now for 4D\n",
    "for label in labels4D:\n",
    "    kronecker_product = np.kron(eval(label[0]), eval(label[1]))\n",
    "    for pauli in label[2:]:\n",
    "        kronecker_product = np.kron(kronecker_product, eval(pauli))\n",
    "    products4D[label] = kronecker_product\n",
    "\n",
    "Labels4D = [label for label in products4D.keys() if label.count('Z') == 1 and label.count(\"I\") == 3]\n",
    "# define quasi spin operators\n",
    "def Jk(k,dim):\n",
    "    # k is x y or z. Return sum of all products containing k once and I once\n",
    "    if dim == 2:\n",
    "        Labels2D = [label for label in products2D.keys() if label.count(k) == 1 and label.count(\"I\") == 1]\n",
    "        print(Labels2D)\n",
    "        summe = 0\n",
    "        for i in range(2):\n",
    "            summe += products2D[Labels2D[i]]\n",
    "        return 1/2*summe\n",
    "    # return sum of all procuts containing \n",
    "    if dim == 4:\n",
    "        return products4D[\"ZIII\"] +  products4D[\"ZIII\"] +  products4D[\"ZIII\"] +  products4D[\"ZIII\"] \n",
    "\n",
    "def Jp(dim):\n",
    "    if dim == 2:\n",
    "        return Jk(\"X\",2) + 1j * Jk(\"Y\",2)\n",
    "    return 1\n",
    "\n",
    "print(Jp(2))\n",
    "def Jm(dim):\n",
    "    if dim == 2:\n",
    "        return Jk(\"X\",2) - 1j * Jk(\"Y\",2)\n",
    "    return 1\n",
    "# define hamiltonian\n",
    "e = 1; V = 1; W = 0; N = 2\n",
    "H0 = e*Jk(\"Z\",2); H1 = V/2 * (Jp(2)*Jp(2).T - Jm(2)*Jm(2).T); H2 = W/2 * (-N + Jp(2)*Jm(2) +Jm(2) *Jp(2))\n",
    "H = H0 + H1 + H2\n",
    "print(\"Own H: \",H)\n",
    "HMorten = e/2*(products2D[\"ZI\"]+products2D[\"IZ\"]) - (W+V)/2 * products2D[\"XX\"]-(W-V)/2*products2D[\"YY\"]\n",
    "print(\"Hmorten : \",HMorten)"
   ]
  },
  {
   "cell_type": "code",
   "execution_count": 4,
   "metadata": {},
   "outputs": [
    {
     "name": "stdout",
     "output_type": "stream",
     "text": [
      "['IIII', 'IIIX', 'IIIY', 'IIIZ', 'IIXI', 'IIXX', 'IIXY', 'IIXZ', 'IIYI', 'IIYX', 'IIYY', 'IIYZ', 'IIZI', 'IIZX', 'IIZY', 'IIZZ', 'IXII', 'IXIX', 'IXIY', 'IXIZ', 'IXXI', 'IXXX', 'IXXY', 'IXXZ', 'IXYI', 'IXYX', 'IXYY', 'IXYZ', 'IXZI', 'IXZX', 'IXZY', 'IXZZ', 'IYII', 'IYIX', 'IYIY', 'IYIZ', 'IYXI', 'IYXX', 'IYXY', 'IYXZ', 'IYYI', 'IYYX', 'IYYY', 'IYYZ', 'IYZI', 'IYZX', 'IYZY', 'IYZZ', 'IZII', 'IZIX', 'IZIY', 'IZIZ', 'IZXI', 'IZXX', 'IZXY', 'IZXZ', 'IZYI', 'IZYX', 'IZYY', 'IZYZ', 'IZZI', 'IZZX', 'IZZY', 'IZZZ', 'XIII', 'XIIX', 'XIIY', 'XIIZ', 'XIXI', 'XIXX', 'XIXY', 'XIXZ', 'XIYI', 'XIYX', 'XIYY', 'XIYZ', 'XIZI', 'XIZX', 'XIZY', 'XIZZ', 'XXII', 'XXIX', 'XXIY', 'XXIZ', 'XXXI', 'XXXX', 'XXXY', 'XXXZ', 'XXYI', 'XXYX', 'XXYY', 'XXYZ', 'XXZI', 'XXZX', 'XXZY', 'XXZZ', 'XYII', 'XYIX', 'XYIY', 'XYIZ', 'XYXI', 'XYXX', 'XYXY', 'XYXZ', 'XYYI', 'XYYX', 'XYYY', 'XYYZ', 'XYZI', 'XYZX', 'XYZY', 'XYZZ', 'XZII', 'XZIX', 'XZIY', 'XZIZ', 'XZXI', 'XZXX', 'XZXY', 'XZXZ', 'XZYI', 'XZYX', 'XZYY', 'XZYZ', 'XZZI', 'XZZX', 'XZZY', 'XZZZ', 'YIII', 'YIIX', 'YIIY', 'YIIZ', 'YIXI', 'YIXX', 'YIXY', 'YIXZ', 'YIYI', 'YIYX', 'YIYY', 'YIYZ', 'YIZI', 'YIZX', 'YIZY', 'YIZZ', 'YXII', 'YXIX', 'YXIY', 'YXIZ', 'YXXI', 'YXXX', 'YXXY', 'YXXZ', 'YXYI', 'YXYX', 'YXYY', 'YXYZ', 'YXZI', 'YXZX', 'YXZY', 'YXZZ', 'YYII', 'YYIX', 'YYIY', 'YYIZ', 'YYXI', 'YYXX', 'YYXY', 'YYXZ', 'YYYI', 'YYYX', 'YYYY', 'YYYZ', 'YYZI', 'YYZX', 'YYZY', 'YYZZ', 'YZII', 'YZIX', 'YZIY', 'YZIZ', 'YZXI', 'YZXX', 'YZXY', 'YZXZ', 'YZYI', 'YZYX', 'YZYY', 'YZYZ', 'YZZI', 'YZZX', 'YZZY', 'YZZZ', 'ZIII', 'ZIIX', 'ZIIY', 'ZIIZ', 'ZIXI', 'ZIXX', 'ZIXY', 'ZIXZ', 'ZIYI', 'ZIYX', 'ZIYY', 'ZIYZ', 'ZIZI', 'ZIZX', 'ZIZY', 'ZIZZ', 'ZXII', 'ZXIX', 'ZXIY', 'ZXIZ', 'ZXXI', 'ZXXX', 'ZXXY', 'ZXXZ', 'ZXYI', 'ZXYX', 'ZXYY', 'ZXYZ', 'ZXZI', 'ZXZX', 'ZXZY', 'ZXZZ', 'ZYII', 'ZYIX', 'ZYIY', 'ZYIZ', 'ZYXI', 'ZYXX', 'ZYXY', 'ZYXZ', 'ZYYI', 'ZYYX', 'ZYYY', 'ZYYZ', 'ZYZI', 'ZYZX', 'ZYZY', 'ZYZZ', 'ZZII', 'ZZIX', 'ZZIY', 'ZZIZ', 'ZZXI', 'ZZXX', 'ZZXY', 'ZZXZ', 'ZZYI', 'ZZYX', 'ZZYY', 'ZZYZ', 'ZZZI', 'ZZZX', 'ZZZY', 'ZZZZ']\n",
      "H = [[ 1  1  1 ...  0  0  0]\n",
      " [ 1 -1  0 ...  0  0  0]\n",
      " [ 1  0  1 ...  0  0  0]\n",
      " ...\n",
      " [ 0  0  0 ... -1  0  1]\n",
      " [ 0  0  0 ...  0  1  1]\n",
      " [ 0  0  0 ...  1  1 -1]]\n"
     ]
    }
   ],
   "source": [
    "import numpy as np\n",
    "\n",
    "\n",
    "\n",
    "\n",
    "# Create a dictionary to store Kronecker products\n",
    "pauli_kronecker = {}\n",
    "\n",
    "# Loop through the combinations and calculate Kronecker products\n",
    "for label in labels:\n",
    "    kronecker_product = np.kron(eval(label[0]), I)\n",
    "    for pauli in label[1:]:\n",
    "        kronecker_product = np.kron(kronecker_product, eval(pauli))\n",
    "    pauli_kronecker[label] = kronecker_product\n",
    "\n",
    "# Define a function to access Kronecker products by label\n",
    "def product(label):\n",
    "    return pauli_kronecker[label]\n",
    "\n",
    "# Example usage:\n",
    "H = product('IIIZ') + product('IIIX') + product('IIXI') + product('XIII')  # Example: H = IIIZ + IIIX + IIXI + XIII\n",
    "print(\"H =\", H)"
   ]
  },
  {
   "cell_type": "code",
   "execution_count": null,
   "metadata": {},
   "outputs": [],
   "source": []
  }
 ],
 "metadata": {
  "kernelspec": {
   "display_name": "Python 3",
   "language": "python",
   "name": "python3"
  },
  "language_info": {
   "codemirror_mode": {
    "name": "ipython",
    "version": 3
   },
   "file_extension": ".py",
   "mimetype": "text/x-python",
   "name": "python",
   "nbconvert_exporter": "python",
   "pygments_lexer": "ipython3",
   "version": "3.12.2"
  }
 },
 "nbformat": 4,
 "nbformat_minor": 2
}
