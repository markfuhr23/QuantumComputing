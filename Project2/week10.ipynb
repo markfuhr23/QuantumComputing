{
 "cells": [
  {
   "cell_type": "markdown",
   "id": "107c11b7",
   "metadata": {
    "editable": true
   },
   "source": [
    "<!-- HTML file automatically generated from DocOnce source (https://github.com/doconce/doconce/)\n",
    "doconce format html week10.do.txt --no_mako -->\n",
    "<!-- dom:TITLE: March 18-22, 2024: Quantum Computing, Quantum Machine Learning and Quantum Information Theories -->"
   ]
  },
  {
   "cell_type": "markdown",
   "id": "89f0101f",
   "metadata": {
    "editable": true
   },
   "source": [
    "# March 18-22, 2024: Quantum Computing, Quantum Machine Learning and Quantum Information Theories\n",
    "**Morten Hjorth-Jensen**, Department of Physics, University of Oslo and Department of Physics and Astronomy and Facility for Rare Isotope Beams, Michigan State University\n",
    "\n",
    "Date: **Week of March 18-22**"
   ]
  },
  {
   "cell_type": "markdown",
   "id": "dd4e03f0",
   "metadata": {
    "editable": true
   },
   "source": [
    "## Plans for the week of March 18-22, 2024\n",
    "\n",
    "1. Discussion of project 1 and possible paths for project 2\n",
    "\n",
    "2. Start discussion of discrete Fourier transforms as prelude to Quantum Fourier transforms, basic mathematical expressions\n",
    "\n",
    "3. Reading recommendation Hundt, Quantum Computing for Programmers, sections 6.1-6.4 on QFT.\n",
    "\n",
    "4. [Video of lecture](https://youtu.be/kR-4qqtFyxQ)\n",
    "\n",
    "5. [Whiteboard notes](https://github.com/CompPhysics/QuantumComputingMachineLearning/blob/gh-pages/doc/HandWrittenNotes/2024/NotesMarch20.pdf)"
   ]
  },
  {
   "cell_type": "markdown",
   "id": "0edc2bb5",
   "metadata": {
    "editable": true
   },
   "source": [
    "## Possible paths for project 2\n",
    "\n",
    "* Implement QFTs  and study the phase estimation algorithm and eventually Shor's algorithm for factorization of numbers.\n",
    "\n",
    "* Study other algorithms\n",
    "\n",
    "a. Deutsch-Jozsa algorithm: Determine if a function is constant or balance using the fewest number of queries.\n",
    "\n",
    "b. Shor's algorithm : Factorize integers efficiently\n",
    "\n",
    "c. Other algorithms\n",
    "\n",
    "* Study the solution of quantum mechanical eigenvalue problems with systems from atomic/molecular physics and quantum chemistry\n",
    "\n",
    "* Quantum machine learning projects\n",
    "\n",
    "* Other paths\n",
    "\n",
    "For project 2, in order to be time efficient, you can use software like Qiskit, Pennylane, qBraid and/or other"
   ]
  },
  {
   "cell_type": "markdown",
   "id": "50c79901",
   "metadata": {
    "editable": true
   },
   "source": [
    "## Overarching motivation\n",
    "\n",
    "We will start with discrete Fourier transforms (DFT).  There are many\n",
    "motivations for the DFT. For those of you familiar with signal\n",
    "processing, harmonic oscillations, and many other areas of\n",
    "applications, Fourier transforms are almost standard kitchen\n",
    "items. For those of you who have studied quantum theory, you have\n",
    "probably met Fourier transforms when studying Heisenberg's uncertainty\n",
    "relation between momentum and position."
   ]
  },
  {
   "cell_type": "markdown",
   "id": "f9e0e780",
   "metadata": {
    "editable": true
   },
   "source": [
    "## A familiar case\n",
    "\n",
    "For problems with so-called harmonic oscillations, given by for example the following differential equation"
   ]
  },
  {
   "cell_type": "markdown",
   "id": "01f3f050",
   "metadata": {
    "editable": true
   },
   "source": [
    "$$\n",
    "m\\frac{d^2x}{dt^2}+\\eta\\frac{dx}{dt}+x(t)=f(t),\n",
    "$$"
   ]
  },
  {
   "cell_type": "markdown",
   "id": "3d20efca",
   "metadata": {
    "editable": true
   },
   "source": [
    "where $f(t)$ is an applied external force acting on the system (often\n",
    "called a driving force), one can use the theory of Fourier\n",
    "transformations to find the solutions of this type of equations."
   ]
  },
  {
   "cell_type": "markdown",
   "id": "449106c8",
   "metadata": {
    "editable": true
   },
   "source": [
    "## Several driving forces\n",
    "\n",
    "If one has several driving forces, $f(t)=\\sum_n f_n(t)$, one can find\n",
    "the particular solution $x_{pn}(t)$ to the above differential equation for each $f_n$. The particular\n",
    "solution for the entire driving force is then given by a series like"
   ]
  },
  {
   "cell_type": "markdown",
   "id": "e3e85a06",
   "metadata": {
    "editable": true
   },
   "source": [
    "$$\n",
    "x_p(t)=\\sum_nx_{pn}(t).\n",
    "$$"
   ]
  },
  {
   "cell_type": "markdown",
   "id": "512f488c",
   "metadata": {
    "editable": true
   },
   "source": [
    "This is known as the principle of superposition. It only applies when\n",
    "the homogenous equation is linear. \n",
    "Superposition is especially useful when $f(t)$ can be written\n",
    "as a sum of sinusoidal terms, because the solutions for each\n",
    "sinusoidal (sine or cosine)  term is analytic."
   ]
  },
  {
   "cell_type": "markdown",
   "id": "aa46c2c2",
   "metadata": {
    "editable": true
   },
   "source": [
    "## Periodicity\n",
    "\n",
    "Driving forces are often periodic, even when they are not\n",
    "sinusoidal. Periodicity implies that for some time $t$ our function repeats itself periodically after a period $T$, that is"
   ]
  },
  {
   "cell_type": "markdown",
   "id": "18fc7e44",
   "metadata": {
    "editable": true
   },
   "source": [
    "$$\n",
    "f(t+\\tau)=f(t).\n",
    "$$"
   ]
  },
  {
   "cell_type": "markdown",
   "id": "aead372f",
   "metadata": {
    "editable": true
   },
   "source": [
    "One example of a non-sinusoidal periodic force is a square wave. Many\n",
    "components in electric circuits are non-linear, for example diodes. This \n",
    "makes many wave forms non-sinusoidal even when the circuits are being\n",
    "driven by purely sinusoidal sources."
   ]
  },
  {
   "cell_type": "markdown",
   "id": "5b0f3ba9",
   "metadata": {
    "editable": true
   },
   "source": [
    "## Simple Code Example\n",
    "\n",
    "The code here shows a typical example of such a square wave generated\n",
    "using the functionality included in the **scipy** Python package. We\n",
    "have used a period of $\\tau=0.2$."
   ]
  },
  {
   "cell_type": "code",
   "execution_count": 1,
   "id": "2cd6d739",
   "metadata": {
    "collapsed": false,
    "editable": true
   },
   "outputs": [
    {
     "data": {
      "image/png": "[encoded data removed]",
      "text/plain": [
       "<Figure size 640x480 with 1 Axes>"
      ]
     },
     "metadata": {},
     "output_type": "display_data"
    }
   ],
   "source": [
    "%matplotlib inline\n",
    "\n",
    "import numpy as np\n",
    "import math\n",
    "from scipy import signal\n",
    "import matplotlib.pyplot as plt\n",
    "\n",
    "# number of points                                                                                       \n",
    "n = 500\n",
    "# start and final times                                                                                  \n",
    "t0 = 0.0\n",
    "tn = 1.0\n",
    "# Period                                                                                                 \n",
    "t = np.linspace(t0, tn, n, endpoint=False)\n",
    "SqrSignal = np.zeros(n)\n",
    "SqrSignal = 1.0+signal.square(2*np.pi*5*t)\n",
    "plt.plot(t, SqrSignal)\n",
    "plt.ylim(-0.5, 2.5)\n",
    "plt.show()"
   ]
  },
  {
   "cell_type": "markdown",
   "id": "5fab270c",
   "metadata": {
    "editable": true
   },
   "source": [
    "## Continuous Fourier transforms and the principle of Superposition\n",
    "\n",
    "It was Fourier's idea to expand a continuous and periodic function $f(t)$ in terms of sums sinus and cosinus ordered functions (we will use exponentials however)\n",
    "as"
   ]
  },
  {
   "cell_type": "markdown",
   "id": "6928a806",
   "metadata": {
    "editable": true
   },
   "source": [
    "$$\n",
    "f(t) = \\sum_{k=1}^{n}a_k\\sin{(2\\pi kt+\\phi_n)},\n",
    "$$"
   ]
  },
  {
   "cell_type": "markdown",
   "id": "6a6d05cd",
   "metadata": {
    "editable": true
   },
   "source": [
    "with $\\phi_n$ being a constant phase. The function $f$ is assumed to be bounded in order to be able to define properly the error in truncating the sum\n",
    "over $n$, that is"
   ]
  },
  {
   "cell_type": "markdown",
   "id": "3a880791",
   "metadata": {
    "editable": true
   },
   "source": [
    "$$\n",
    "\\int_a^b dt \\vert f(t)\\vert^2 \\le M < \\infty.\n",
    "$$"
   ]
  },
  {
   "cell_type": "markdown",
   "id": "0e349d22",
   "metadata": {
    "editable": true
   },
   "source": [
    "Below we discuss how to find the coefficients $a_n$."
   ]
  },
  {
   "cell_type": "markdown",
   "id": "d789a177",
   "metadata": {
    "editable": true
   },
   "source": [
    "## Rewriting in terms of sines and cosines\n",
    "\n",
    "It is common to rewrite the above sum in terms of sines and cosines and to add a complex constant $a_0$. This gives us"
   ]
  },
  {
   "cell_type": "markdown",
   "id": "56150072",
   "metadata": {
    "editable": true
   },
   "source": [
    "$$\n",
    "f(t) = \\frac{a_0}{2}+ \\sum_{k=1}^{n}\\left(a_k\\cos{(2\\pi kt)}+b_n\\sin{(2\\pi kt)}\\right).\n",
    "$$"
   ]
  },
  {
   "cell_type": "markdown",
   "id": "5e6eb69a",
   "metadata": {
    "editable": true
   },
   "source": [
    "Using the standard trigonometric relations"
   ]
  },
  {
   "cell_type": "markdown",
   "id": "a60b6075",
   "metadata": {
    "editable": true
   },
   "source": [
    "$$\n",
    "\\begin{align*}\n",
    "\\cos{t} = \\frac{\\exp{\\imath t}+\\exp{-\\imath t}}{2} & \\hspace{0.5cm} \\sin{t} = \\frac{\\exp{\\imath t}-\\exp{-\\imath t}}{2\\imath}.\n",
    "\\end{align*}\n",
    "$$"
   ]
  },
  {
   "cell_type": "markdown",
   "id": "f6a029ff",
   "metadata": {
    "editable": true
   },
   "source": [
    "## Exponential expression\n",
    "\n",
    "We can rewrite the Fourier expansion as"
   ]
  },
  {
   "cell_type": "markdown",
   "id": "fdb332a8",
   "metadata": {
    "editable": true
   },
   "source": [
    "$$\n",
    "f(t) =\\sum_{k=-n}^{n}c_{k}\\exp{(2\\pi\\imath kt)},\n",
    "$$"
   ]
  },
  {
   "cell_type": "markdown",
   "id": "ead5c1de",
   "metadata": {
    "editable": true
   },
   "source": [
    "with $c_0=a_0/2$. The coefficients $c_k$ are complex and satisfy $c_{-k}=c_k^*$.\n",
    "The constant $c_{0}=c_0^*$ is a real number.\n",
    "\n",
    "The above sum can also be rewritten in terms of the real part of the exponetials as"
   ]
  },
  {
   "cell_type": "markdown",
   "id": "92dd414b",
   "metadata": {
    "editable": true
   },
   "source": [
    "$$\n",
    "f(t) =2\\mathrm{Re}\\left(\\sum_{k=0}^{n}c_{k}\\exp{(2\\pi\\imath kt} \\right),\n",
    "$$"
   ]
  },
  {
   "cell_type": "markdown",
   "id": "f248b1c0",
   "metadata": {
    "editable": true
   },
   "source": [
    "where we used that $c_{-k}=c_k^*$. We leave it as an exercise to the reader to show the latter expression.\n",
    "\n",
    "How do we determine the coefficients $c_k$?"
   ]
  },
  {
   "cell_type": "markdown",
   "id": "1b16536a",
   "metadata": {
    "editable": true
   },
   "source": [
    "## Determining $c_k$\n",
    "\n",
    "Let us assume that we have a periodic function $f(t)$"
   ]
  },
  {
   "cell_type": "markdown",
   "id": "cc6c28f1",
   "metadata": {
    "editable": true
   },
   "source": [
    "$$\n",
    "f(t) =\\sum_{k=-n}^{n}c_{k}\\exp{(2\\pi\\imath kt)},\n",
    "$$"
   ]
  },
  {
   "cell_type": "markdown",
   "id": "6f0bd2c1",
   "metadata": {
    "editable": true
   },
   "source": [
    "and we select the coefficient $c_l$, and multiply the l.h.s and r.h.s. with $\\exp{(-2\\pi\\imath lt)}$, and isolate the $c_l$ terms"
   ]
  },
  {
   "cell_type": "markdown",
   "id": "9f2423df",
   "metadata": {
    "editable": true
   },
   "source": [
    "$$\n",
    "c_l=f(t)\\exp{(-2\\pi\\imath lt)}-\\sum_{k=-n, k\\ne l}^{n}c_{k}\\exp{(2\\pi\\imath (k-l)t)}.\n",
    "$$"
   ]
  },
  {
   "cell_type": "markdown",
   "id": "d1a1a096",
   "metadata": {
    "editable": true
   },
   "source": [
    "## Integrating both sides\n",
    "\n",
    "Then we integrate both sides (note we have assumed a period of one) from $0$ to $1$. This gives"
   ]
  },
  {
   "cell_type": "markdown",
   "id": "1af9ec61",
   "metadata": {
    "editable": true
   },
   "source": [
    "$$\n",
    "c_l=\\int_0^1 dtf(t)\\exp{(-2\\pi\\imath lt)},\n",
    "$$"
   ]
  },
  {
   "cell_type": "markdown",
   "id": "2ad5f63a",
   "metadata": {
    "editable": true
   },
   "source": [
    "since the terms with the sum is zero.  We leave again this derivation as an exercise to the dedicated reader.\n",
    "If the function $f$ is real ($t$ nd $dt$ are real), then $c_l^*=c_{-l}$.\n",
    "The coefficients $c_n$ are normally called the Fourier coefficients and it is common to relabel them in terms of the function $f$ as"
   ]
  },
  {
   "cell_type": "markdown",
   "id": "74276aab",
   "metadata": {
    "editable": true
   },
   "source": [
    "$$\n",
    "\\hat{f}(k)=\\int_0^1 dt f(t)\\exp{(-2\\pi\\imath kt)}.\n",
    "$$"
   ]
  },
  {
   "cell_type": "markdown",
   "id": "26acafc6",
   "metadata": {
    "editable": true
   },
   "source": [
    "## Independence of interval length\n",
    "\n",
    "In the discussions and equations above, we have assumed that the\n",
    "integration interval has a length of one, that is a period of length one. It is easy to change this\n",
    "length and as we show below, if we integrate from say $a$ to $a+1$, this is the same as integrating over an interval of length $1$.\n",
    "\n",
    "To show this, we need also to recall that our function $f(t)$ is assumed to be periodic, that is we need to satisfy"
   ]
  },
  {
   "cell_type": "markdown",
   "id": "fac38990",
   "metadata": {
    "editable": true
   },
   "source": [
    "$$\n",
    "f(a+1)=f(a).\n",
    "$$"
   ]
  },
  {
   "cell_type": "markdown",
   "id": "889392ab",
   "metadata": {
    "editable": true
   },
   "source": [
    "Later we will generalize this to a period of arbitrary length.\n",
    "\n",
    "Assume that $a$ is any number and taking the derivative of the integral with respect to $a$, we have"
   ]
  },
  {
   "cell_type": "markdown",
   "id": "211d69a7",
   "metadata": {
    "editable": true
   },
   "source": [
    "$$\n",
    "\\frac{d}{da}\\left[\\int_a^{a+1} dt f(t)\\exp{(-2\\pi\\imath kt)}\\right].\n",
    "$$"
   ]
  },
  {
   "cell_type": "markdown",
   "id": "eb79ebca",
   "metadata": {
    "editable": true
   },
   "source": [
    "## Writing out the various terms\n",
    "\n",
    "From the last equation we have then"
   ]
  },
  {
   "cell_type": "markdown",
   "id": "e28ea23a",
   "metadata": {
    "editable": true
   },
   "source": [
    "$$\n",
    "\\exp{(-2\\pi\\imath ka)}\\exp{(-2\\pi\\imath k)}f(a+1)-\\exp{(-2\\pi\\imath ka)}f(a)=0,\n",
    "$$"
   ]
  },
  {
   "cell_type": "markdown",
   "id": "3db3f9c0",
   "metadata": {
    "editable": true
   },
   "source": [
    "where we used the periodicity  $f(a+1)=f(a)$ and that $\\exp{(-2\\pi\\imath k)}=1$ since $k$ is an integer.\n",
    "This shows that the expression for $\\hat{f}$ is independent of $a$. A common instance is"
   ]
  },
  {
   "cell_type": "markdown",
   "id": "701349f2",
   "metadata": {
    "editable": true
   },
   "source": [
    "$$\n",
    "\\hat{f}(k)=\\int_{-\\frac{1}{2}}^{\\frac{1}{2}} dt f(t)\\exp{(-2\\pi\\imath kt)}.\n",
    "$$"
   ]
  },
  {
   "cell_type": "markdown",
   "id": "ba8ceacd",
   "metadata": {
    "editable": true
   },
   "source": [
    "## Changing period\n",
    "\n",
    "What if the period is not equal to one? Assume we are working with a\n",
    "function $f(t)$ whose period is $T$. We can then define a function\n",
    "$g(t)$ with period one as"
   ]
  },
  {
   "cell_type": "markdown",
   "id": "7aef963f",
   "metadata": {
    "editable": true
   },
   "source": [
    "$$\n",
    "g(t) = f(Tt),\n",
    "$$"
   ]
  },
  {
   "cell_type": "markdown",
   "id": "cca0a12a",
   "metadata": {
    "editable": true
   },
   "source": [
    "that is"
   ]
  },
  {
   "cell_type": "markdown",
   "id": "3e70022b",
   "metadata": {
    "editable": true
   },
   "source": [
    "$$\n",
    "g(t) =\\sum_{k=-n}^{n}c_{n}\\exp{(2\\pi\\imath kt)},\n",
    "$$"
   ]
  },
  {
   "cell_type": "markdown",
   "id": "edff091d",
   "metadata": {
    "editable": true
   },
   "source": [
    "and introducing the variable $s=Tt$ we have $g(t)=f(s)$ we have"
   ]
  },
  {
   "cell_type": "markdown",
   "id": "612e11dd",
   "metadata": {
    "editable": true
   },
   "source": [
    "$$\n",
    "f(s) = g(t)=\\sum_{k=-n}^{n}c_{n}\\exp{(2\\pi\\imath kt)}=\\sum_{k=-n}^{n}c_{k}\\exp{(2\\pi\\imath ks/T)}.\n",
    "$$"
   ]
  },
  {
   "cell_type": "markdown",
   "id": "76229b70",
   "metadata": {
    "editable": true
   },
   "source": [
    "## Harmonics\n",
    "\n",
    "The so-called harmonics are now defined as $\\exp{(2\\pi\\imath ks/T)}$.\n",
    "We have"
   ]
  },
  {
   "cell_type": "markdown",
   "id": "45fa13b3",
   "metadata": {
    "editable": true
   },
   "source": [
    "$$\n",
    "\\hat{g}(k)=\\int_0^1 dt g(t)\\exp{(-2\\pi\\imath kt)},\n",
    "$$"
   ]
  },
  {
   "cell_type": "markdown",
   "id": "ce1756c1",
   "metadata": {
    "editable": true
   },
   "source": [
    "and using $s=Tt$ we have"
   ]
  },
  {
   "cell_type": "markdown",
   "id": "c7b14394",
   "metadata": {
    "editable": true
   },
   "source": [
    "$$\n",
    "\\hat{g}(k)=\\int_0^1 dt g(t)\\exp{(-2\\pi\\imath kt)}=\\frac{1}{T}\\int_0^T ds f(s)\\exp{(-2\\pi\\imath ks/T)}.\n",
    "$$"
   ]
  },
  {
   "cell_type": "markdown",
   "id": "81dbce74",
   "metadata": {
    "editable": true
   },
   "source": [
    "For a period $T$ we have thus the general expression for the Fourier transform"
   ]
  },
  {
   "cell_type": "markdown",
   "id": "9a17047b",
   "metadata": {
    "editable": true
   },
   "source": [
    "$$\n",
    "\\hat{f}(k)=c_k=\\frac{1}{T}\\int_0^T dt f(t)\\exp{(-2\\pi\\imath kt/T)}.\n",
    "$$"
   ]
  },
  {
   "cell_type": "markdown",
   "id": "b9930ee2",
   "metadata": {
    "editable": true
   },
   "source": [
    "## Typical interval\n",
    "\n",
    "An often used choice of interval is"
   ]
  },
  {
   "cell_type": "markdown",
   "id": "444c22c7",
   "metadata": {
    "editable": true
   },
   "source": [
    "$$\n",
    "\\hat{f}(k)=c_k=\\frac{1}{T}\\int_{-T/2}^{T/2} dt f(t)\\exp{(-2\\pi\\imath kt/T)},\n",
    "$$"
   ]
  },
  {
   "cell_type": "markdown",
   "id": "1ac83b2f",
   "metadata": {
    "editable": true
   },
   "source": [
    "and a common choice for the harmonics is $(1/\\sqrt{T})\\exp{(2\\pi\\imath kt/T)}$.\n",
    "\n",
    "As a small addendum, if the signal (function) $f(t)$ is real and even one has $f(-t)=f(t)$. If $f$ is an even function, then $\\hat{f}$ is also an even function which leads to $\\hat{f}(-k)=\\hat{f}(k)$."
   ]
  },
  {
   "cell_type": "markdown",
   "id": "8872f4fa",
   "metadata": {
    "editable": true
   },
   "source": [
    "## Sinusoidal example\n",
    "For the sinusoidal example the\n",
    "period is $T=2\\pi/\\omega$. However, higher harmonics can also\n",
    "satisfy the periodicity requirement. In general, any force that\n",
    "satisfies the periodicity requirement can be expressed as a sum over\n",
    "harmonics,"
   ]
  },
  {
   "cell_type": "markdown",
   "id": "e1cf64d2",
   "metadata": {
    "editable": true
   },
   "source": [
    "$$\n",
    "f(t)=\\frac{a_0}{2}+\\sum_{n>0} a_n\\cos(2n\\pi t/T)+b_n\\sin(2n\\pi t/T).\n",
    "$$"
   ]
  },
  {
   "cell_type": "markdown",
   "id": "ececba18",
   "metadata": {
    "editable": true
   },
   "source": [
    "## Square well example\n",
    "\n",
    "In the code discussed earlier, we used a square well as a our\n",
    "example. If we assume our period has length $1$, we can define the\n",
    "square well function $f(t)$ as"
   ]
  },
  {
   "cell_type": "markdown",
   "id": "4037442e",
   "metadata": {
    "editable": true
   },
   "source": [
    "$$\n",
    "f(t)=\\left\\{\\begin{array}{cc} 1 & 0 \\le t \\le \\frac{1}{2} \\\\\n",
    "                              -1 & \\frac{1}{2} < t \\le 1\\end{array}\\right.\n",
    "$$"
   ]
  },
  {
   "cell_type": "markdown",
   "id": "8be53db1",
   "metadata": {
    "editable": true
   },
   "source": [
    "The zeroth coefficient $a_0$ is zero since it is the average of the function $f(t)$ over the intergration domain $t\\in [0,1]$."
   ]
  },
  {
   "cell_type": "markdown",
   "id": "d9fb839f",
   "metadata": {
    "editable": true
   },
   "source": [
    "## The coefficients\n",
    "\n",
    "We find that the other coefficients are"
   ]
  },
  {
   "cell_type": "markdown",
   "id": "83338aa2",
   "metadata": {
    "editable": true
   },
   "source": [
    "$$\n",
    "\\hat{f}(n)=c_n=\\int_0^1 dt f(t)\\exp{(-2\\pi\\imath nt)}=\\frac{1}{\\imath\\pi n}\\left(1-\\exp{-\\imath\\pi n}\\right).\n",
    "$$"
   ]
  },
  {
   "cell_type": "markdown",
   "id": "851b6ebe",
   "metadata": {
    "editable": true
   },
   "source": [
    "We note that $(1-\\exp{-\\imath\\pi n})$ is zero when $n$ is an even\n",
    "number and $2$ when $n$ is an odd number. We can then combine the\n",
    "positive and negative values of $n$ using"
   ]
  },
  {
   "cell_type": "markdown",
   "id": "ea8e2b85",
   "metadata": {
    "editable": true
   },
   "source": [
    "$$\n",
    "\\exp{(2\\pi\\imath nt)}-\\exp{(-2\\pi\\imath nt)}=2\\imath \\sin{(2\\pi nt)},\n",
    "$$"
   ]
  },
  {
   "cell_type": "markdown",
   "id": "b7d18d11",
   "metadata": {
    "editable": true
   },
   "source": [
    "and we have"
   ]
  },
  {
   "cell_type": "markdown",
   "id": "bf53e85c",
   "metadata": {
    "editable": true
   },
   "source": [
    "$$\n",
    "f(t)=\\frac{4}{\\pi}\\sum_{k=0}^{\\infty}\\frac{1}{2k+1}\\sin{(2\\pi(2k+1)t)}.\n",
    "$$"
   ]
  },
  {
   "cell_type": "markdown",
   "id": "0ebdbb89",
   "metadata": {
    "editable": true
   },
   "source": [
    "## Code for the  Fourier Transforms\n",
    "\n",
    "The code here uses the Fourier series applied to a \n",
    "square wave signal. The code here\n",
    "visualizes the various approximations given by Fourier series compared\n",
    "with a square wave with period $T=0.2$ (dimensionless time), width $0.1$ and max value of the force $F=2$. We\n",
    "see that when we increase the number of components in the Fourier\n",
    "series, the Fourier series approximation gets closer and closer to the\n",
    "square wave signal."
   ]
  },
  {
   "cell_type": "code",
   "execution_count": 26,
   "id": "6ba38ae6",
   "metadata": {
    "collapsed": false,
    "editable": true
   },
   "outputs": [
    {
     "data": {
      "image/png": "[encoded data removed]",
      "text/plain": [
       "<Figure size 640x480 with 1 Axes>"
      ]
     },
     "metadata": {},
     "output_type": "display_data"
    }
   ],
   "source": [
    "import numpy as np\n",
    "import math\n",
    "from scipy import signal\n",
    "import matplotlib.pyplot as plt\n",
    "\n",
    "# number of points                                                                                       \n",
    "n = 500\n",
    "# start and final times                                                                                  \n",
    "t0 = 0.0\n",
    "tn = 1.0\n",
    "# Period                                                                                                 \n",
    "T =0.2\n",
    "# Max value of square signal                                                                             \n",
    "Fmax= 2.0\n",
    "# Width of signal   \n",
    "Width = 0.1\n",
    "t = np.linspace(t0, tn, n, endpoint=False)\n",
    "SqrSignal = np.zeros(n)\n",
    "FourierSeriesSignal = np.zeros(n)\n",
    "SqrSignal = 1.0+signal.square(2*np.pi*5*t+np.pi*Width/T)\n",
    "a0 = Fmax*Width/T\n",
    "FourierSeriesSignal = a0\n",
    "Own = a0\n",
    "\n",
    "Factor = 2.0*Fmax/np.pi\n",
    "for i in range(1,2500):\n",
    "    #print(FourierSeriesSignal)\n",
    "    FourierSeriesSignal += Factor/(i)*np.sin(np.pi*i*Width/T)*np.cos(i*t*2*np.pi/T)\n",
    "    Own += 4/np.pi *1/(2*i+1) *np.sin(2*np.pi*(2*i+1)*t/0.2)\n",
    "    \n",
    "plt.plot(t, SqrSignal)\n",
    "plt.plot(t, FourierSeriesSignal)\n",
    "plt.plot(t, Own)\n",
    "plt.ylim(-0.5, 2.5)\n",
    "plt.show()"
   ]
  },
  {
   "cell_type": "markdown",
   "id": "d6d5d57f",
   "metadata": {
    "editable": true
   },
   "source": [
    "### Fourier transforms and convolution\n",
    "\n",
    "We can use Fourier transforms in our studies of convolution as\n",
    "well. To see this, assume we have two functions $f$ and $g$ and their\n",
    "corresponding Fourier transforms $\\hat{f}$ and $\\hat{g}$. We remind\n",
    "the reader that the Fourier transform reads (say for the function $f$)"
   ]
  },
  {
   "cell_type": "markdown",
   "id": "b227c95e",
   "metadata": {
    "editable": true
   },
   "source": [
    "$$\n",
    "\\hat{f}(y)=\\boldsymbol{F}[f(y)]=\\frac{1}{2\\pi}\\int_{-\\infty}^{\\infty} d\\omega \\exp{-i\\omega y} f(\\omega),\n",
    "$$"
   ]
  },
  {
   "cell_type": "markdown",
   "id": "3388a5fc",
   "metadata": {
    "editable": true
   },
   "source": [
    "and similarly we have"
   ]
  },
  {
   "cell_type": "markdown",
   "id": "769b6498",
   "metadata": {
    "editable": true
   },
   "source": [
    "$$\n",
    "\\hat{g}(y)=\\boldsymbol{F}[g(y)]=\\frac{1}{2\\pi}\\int_{-\\infty}^{\\infty} d\\omega \\exp{-i\\omega y} g(\\omega).\n",
    "$$"
   ]
  },
  {
   "cell_type": "markdown",
   "id": "4da5cfb1",
   "metadata": {
    "editable": true
   },
   "source": [
    "## Inverse Fourier transform\n",
    "\n",
    "The inverse Fourier transform is given by"
   ]
  },
  {
   "cell_type": "markdown",
   "id": "bb8866e8",
   "metadata": {
    "editable": true
   },
   "source": [
    "$$\n",
    "\\boldsymbol{F}^{-1}[g(y)]=\\frac{1}{2\\pi}\\int_{-\\infty}^{\\infty} d\\omega \\exp{i\\omega y} g(\\omega).\n",
    "$$"
   ]
  },
  {
   "cell_type": "markdown",
   "id": "00a3c46a",
   "metadata": {
    "editable": true
   },
   "source": [
    "The inverse Fourier transform of the product of the two functions $\\hat{f}\\hat{g}$ can be written as"
   ]
  },
  {
   "cell_type": "markdown",
   "id": "91b9b888",
   "metadata": {
    "editable": true
   },
   "source": [
    "$$\n",
    "\\boldsymbol{F}^{-1}[(\\hat{f}\\hat{g})(x)]=\\frac{1}{2\\pi}\\int_{-\\infty}^{\\infty} d\\omega \\exp{i\\omega x} \\hat{f}(\\omega)\\hat{g}(\\omega).\n",
    "$$"
   ]
  },
  {
   "cell_type": "markdown",
   "id": "cb184c8a",
   "metadata": {
    "editable": true
   },
   "source": [
    "## Rewriting\n",
    "We can rewrite the latter as"
   ]
  },
  {
   "cell_type": "markdown",
   "id": "e1b97dd0",
   "metadata": {
    "editable": true
   },
   "source": [
    "$$\n",
    "\\boldsymbol{F}^{-1}[(\\hat{f}\\hat{g})(x)]=\\int_{-\\infty}^{\\infty} d\\omega \\exp{i\\omega x} \\hat{f}(\\omega)\\left[\\frac{1}{2\\pi}\\int_{-\\infty}^{\\infty}g(y)dy \\exp{-i\\omega y}\\right]=\\frac{1}{2\\pi}\\int_{-\\infty}^{\\infty}dy g(y)\\int_{-\\infty}^{\\infty} d\\omega \\hat{f}(\\omega) \\exp{i\\omega(x- y)},\n",
    "$$"
   ]
  },
  {
   "cell_type": "markdown",
   "id": "ff0153a8",
   "metadata": {
    "editable": true
   },
   "source": [
    "which is simply"
   ]
  },
  {
   "cell_type": "markdown",
   "id": "267bc569",
   "metadata": {
    "editable": true
   },
   "source": [
    "$$\n",
    "\\boldsymbol{F}^{-1}[(\\hat{f}\\hat{g})(x)]=\\int_{-\\infty}^{\\infty}dy g(y)f(x-y)=(f*g)(x),\n",
    "$$"
   ]
  },
  {
   "cell_type": "markdown",
   "id": "cfabf3ef",
   "metadata": {
    "editable": true
   },
   "source": [
    "the convolution of the functions $f$ and $g$."
   ]
  },
  {
   "cell_type": "markdown",
   "id": "86460323",
   "metadata": {
    "editable": true
   },
   "source": [
    "## Transforming to discrete variables\n",
    "\n",
    "In the Fourier transform $c_n$ is transformed from a dicrete variable\n",
    "to a continuous one as $T \\rightarrow \\infty$. We then replace $c_n$ with\n",
    "$f(k)dk$ and let $n/T \\rightarrow k$, and the sum is changed to an\n",
    "integral. This gives"
   ]
  },
  {
   "cell_type": "markdown",
   "id": "092a9a9c",
   "metadata": {
    "editable": true
   },
   "source": [
    "$$\n",
    "f(x) = \\int_{-\\infty}^{\\infty}dkF(k) \\exp{i(2\\pi kx)}\n",
    "$$"
   ]
  },
  {
   "cell_type": "markdown",
   "id": "6005a2fd",
   "metadata": {
    "editable": true
   },
   "source": [
    "and"
   ]
  },
  {
   "cell_type": "markdown",
   "id": "2a0066d2",
   "metadata": {
    "editable": true
   },
   "source": [
    "$$\n",
    "F(k) = \\int_{-\\infty}^{\\infty}dxf(x) \\exp{-i(2\\pi kx)}\n",
    "$$"
   ]
  },
  {
   "cell_type": "markdown",
   "id": "b6c5e6a1",
   "metadata": {
    "editable": true
   },
   "source": [
    "One way to interpret the Fourier transform is then as a transformation from one basis to another."
   ]
  },
  {
   "cell_type": "markdown",
   "id": "87509dbd",
   "metadata": {
    "editable": true
   },
   "source": [
    "## Discrete Fourier transform\n",
    "\n",
    "We change notation by replacing $t$ with $x$.\n",
    "\n",
    "Next we make another generalization by having a discrete function,\n",
    "that is $f(x) \\rightarrow f(x_k)$ with $x_k = k\\Delta x$ for $k=0,\\dots, N-1$. This leads to the sums"
   ]
  },
  {
   "cell_type": "markdown",
   "id": "2102e96f",
   "metadata": {
    "editable": true
   },
   "source": [
    "$$\n",
    "f_x = \\frac{1}{n} \\sum_{k=0}^{n-1}F_k \\exp{i(2\\pi kx)/n},\n",
    "$$"
   ]
  },
  {
   "cell_type": "markdown",
   "id": "e446b21c",
   "metadata": {
    "editable": true
   },
   "source": [
    "and"
   ]
  },
  {
   "cell_type": "markdown",
   "id": "8042fa98",
   "metadata": {
    "editable": true
   },
   "source": [
    "$$\n",
    "F_k = \\sum_{x=0}^{n-1}f_x \\exp{-i(2\\pi kx)/n}.\n",
    "$$"
   ]
  },
  {
   "cell_type": "markdown",
   "id": "9c0d2c08",
   "metadata": {
    "editable": true
   },
   "source": [
    "Although we have used functions here, this could also be a set of\n",
    "numbers."
   ]
  },
  {
   "cell_type": "markdown",
   "id": "0f6a3725",
   "metadata": {
    "editable": true
   },
   "source": [
    "## Simple example\n",
    "\n",
    "As an example we can have a set of complex numbers\n",
    "$\\{x_0,\\dots,x_{n-1}\\}$ with fixed length $n$, we can Fourier\n",
    "transform this as"
   ]
  },
  {
   "cell_type": "markdown",
   "id": "ffe001b4",
   "metadata": {
    "editable": true
   },
   "source": [
    "$$\n",
    "y_k = \\frac{1}{\\sqrt{n}} \\sum_{j=0}^{n-1} x_j \\exp{i(2\\pi jk)/n},\n",
    "$$"
   ]
  },
  {
   "cell_type": "markdown",
   "id": "17082902",
   "metadata": {
    "editable": true
   },
   "source": [
    "leading to a new set of complex numbers $\\{ y_0,\\dots,y_{n-1}\\}$."
   ]
  },
  {
   "cell_type": "markdown",
   "id": "d96725cb",
   "metadata": {
    "editable": true
   },
   "source": [
    "## Discrete Fourier Transformations\n",
    "\n",
    "Consider two sets of complex numbers $x_k$ and $y_k$ with\n",
    "$k=0,1,\\dots,n-1$ entries. The discrete Fourier transform is defined\n",
    "as"
   ]
  },
  {
   "cell_type": "markdown",
   "id": "5c9a0f1d",
   "metadata": {
    "editable": true
   },
   "source": [
    "$$\n",
    "y_k = \\frac{1}{\\sqrt{n}} \\sum_{j=0}^{n-1} \\exp{(\\frac{2\\pi\\imath jk}{n})} x_j.\n",
    "$$"
   ]
  },
  {
   "cell_type": "markdown",
   "id": "898932fd",
   "metadata": {
    "editable": true
   },
   "source": [
    "As an example, assume $x_0=1$ and $x_1=1$. We can then use the above expression to find $y_0$ and $y_1$.\n",
    "\n",
    "With the above formula we get then"
   ]
  },
  {
   "cell_type": "markdown",
   "id": "e49888b0",
   "metadata": {
    "editable": true
   },
   "source": [
    "$$\n",
    "\\begin{align*}\n",
    "y_0 &= \\frac{1}{\\sqrt{2}} \\left( \\exp{(\\frac{2\\pi\\imath 0\\times 1}{2})} \\times 1+\\exp{(\\frac{2\\pi\\imath 0\\times 1}{2})}\\times 2\\right)\\\\\n",
    "& =\\frac{1}{\\sqrt{2}}(1+2)=\\frac{3}{\\sqrt{2}},\n",
    "\\end{align*}\n",
    "$$"
   ]
  },
  {
   "cell_type": "markdown",
   "id": "cda23e84",
   "metadata": {
    "editable": true
   },
   "source": [
    "and"
   ]
  },
  {
   "cell_type": "markdown",
   "id": "7f9c4a95",
   "metadata": {
    "editable": true
   },
   "source": [
    "$$\n",
    "\\begin{align*}\n",
    "y_1 &= \\frac{1}{\\sqrt{2}} \\left( \\exp{(\\frac{2\\pi\\imath 0\\times 1}{2})} \\times 1+\\exp{(\\frac{2\\pi\\imath 1\\times 1}{2})}\\times 2\\right)=\\\\\n",
    "& =\\frac{1}{\\sqrt{2}}(1+2\\exp{(\\pi\\imath)})=-\\frac{1}{\\sqrt{2}}.\n",
    "\\end{align*}\n",
    "$$"
   ]
  },
  {
   "cell_type": "markdown",
   "id": "b461f4d1",
   "metadata": {
    "editable": true
   },
   "source": [
    "## More details on Discrete Fourier transforms\n",
    "\n",
    "Suppose that we have a vector $f$ of $n$ complex numbers, $f_{k}, k\n",
    "\\in\\{0,1, \\ldots, n-1\\}$. Then the discrete Fourier transform (DFT) is\n",
    "a map from these $n$ complex numbers to $n$ complex numbers, the\n",
    "Fourier transformed coefficients $\\tilde{f}_{j}$, given by"
   ]
  },
  {
   "cell_type": "markdown",
   "id": "eee695c8",
   "metadata": {
    "editable": true
   },
   "source": [
    "$$\n",
    "\\tilde{f}_{j}=\\frac{1}{\\sqrt{n}} \\sum_{k=0}^{n-1} \\omega^{-j k} f_{k}\n",
    "$$"
   ]
  },
  {
   "cell_type": "markdown",
   "id": "1a76e1b9",
   "metadata": {
    "editable": true
   },
   "source": [
    "where $\\omega=\\exp \\left(\\frac{2 \\pi i}{N}\\right)$."
   ]
  },
  {
   "cell_type": "markdown",
   "id": "d4b9d396",
   "metadata": {
    "editable": true
   },
   "source": [
    "## Inverse DFT\n",
    "\n",
    "The inverse DFT is given by"
   ]
  },
  {
   "cell_type": "markdown",
   "id": "4e8575fe",
   "metadata": {
    "editable": true
   },
   "source": [
    "$$\n",
    "f_{j}=\\frac{1}{\\sqrt{n}} \\sum_{k=0}^{n-1} \\omega^{j k} \\tilde{f}_{k}\n",
    "$$"
   ]
  },
  {
   "cell_type": "markdown",
   "id": "959555ae",
   "metadata": {
    "editable": true
   },
   "source": [
    "To see this consider how the basis vectors transform. If $f_{k}^{l}=\\delta_{k, l}$, then"
   ]
  },
  {
   "cell_type": "markdown",
   "id": "cdfa99a7",
   "metadata": {
    "editable": true
   },
   "source": [
    "$$\n",
    "\\tilde{f}_{j}^{l}=\\frac{1}{\\sqrt{n}} \\sum_{k=0}^{n-1} \\omega^{-j k} \\delta_{k, l}=\\frac{1}{\\sqrt{n}} \\omega^{-j l}\n",
    "$$"
   ]
  },
  {
   "cell_type": "markdown",
   "id": "36c6396b",
   "metadata": {
    "editable": true
   },
   "source": [
    "## Orthonormality\n",
    "\n",
    "These DFT vectors are orthonormal, that is"
   ]
  },
  {
   "cell_type": "markdown",
   "id": "08ddafd2",
   "metadata": {
    "editable": true
   },
   "source": [
    "$$\n",
    "\\sum_{j=0}^{n-1} \\tilde{f}^{l}{ }_{j}^{*} \\tilde{f}_{j}^{m}=\\frac{1}{n} \\sum_{j=0}^{n-1} \\omega^{j l} \\omega^{-j m}=\\frac{1}{N} \\sum_{j=0}^{n-1} \\omega^{j(l-m)}\n",
    "$$"
   ]
  },
  {
   "cell_type": "markdown",
   "id": "d5756b0b",
   "metadata": {
    "editable": true
   },
   "source": [
    "This last sum can be evaluated as a geometric series, but beware of the $(l-m)=0$ term, and yields"
   ]
  },
  {
   "cell_type": "markdown",
   "id": "fbcf5ecc",
   "metadata": {
    "editable": true
   },
   "source": [
    "$$\n",
    "\\sum_{j=0}^{n-1} \\tilde{f}^{l}{ }_{j}^{*} \\tilde{f}_{j}^{m}=\\delta_{l, m}\n",
    "$$"
   ]
  },
  {
   "cell_type": "markdown",
   "id": "15041813",
   "metadata": {
    "editable": true
   },
   "source": [
    "## Inverse transform\n",
    "\n",
    "From this we can check that the inverse DFT does indeed perform the inverse transform:"
   ]
  },
  {
   "cell_type": "markdown",
   "id": "24cf92ad",
   "metadata": {
    "editable": true
   },
   "source": [
    "$$\n",
    "f_{j}=\\frac{1}{\\sqrt{n}} \\sum_{k=0}^{n-1} \\omega^{j k} \\tilde{f}_{k}=\\frac{1}{\\sqrt{n}} \\sum_{k=0}^{n-1} \\omega^{j k} \\frac{1}{\\sqrt{n}} \\sum_{l=0}^{n-1} \\omega^{-l k} f_{l}=\\frac{1}{n} \\sum_{k, l=0}^{n-1} \\omega^{(j-l) k} f_{l}=\\sum_{l=0}^{n-1} \\delta_{j, l} f_{l}=f_{j}\n",
    "$$"
   ]
  },
  {
   "cell_type": "markdown",
   "id": "e09b433c",
   "metadata": {
    "editable": true
   },
   "source": [
    "## Plans for the week of April 1-5\n",
    "\n",
    "1. Finalize our discussion of DFTs and introduce QFTs\n",
    "\n",
    "2. Set up calculations of QFTs"
   ]
  }
 ],
 "metadata": {
  "kernelspec": {
   "display_name": "Python 3",
   "language": "python",
   "name": "python3"
  },
  "language_info": {
   "codemirror_mode": {
    "name": "ipython",
    "version": 3
   },
   "file_extension": ".py",
   "mimetype": "text/x-python",
   "name": "python",
   "nbconvert_exporter": "python",
   "pygments_lexer": "ipython3",
   "version": "3.12.2"
  }
 },
 "nbformat": 4,
 "nbformat_minor": 5
}
