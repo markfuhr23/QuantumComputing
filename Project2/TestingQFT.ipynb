{
 "cells": [
  {
   "cell_type": "code",
   "execution_count": 1,
   "metadata": {},
   "outputs": [],
   "source": [
    "import numpy as np\n",
    "from utils import CNOT, Cphase, QFT, QFTMatrix, inverseQFT, swap, kronString, binaryToState, stateToBinary, H, reverseOrder"
   ]
  },
  {
   "cell_type": "markdown",
   "metadata": {},
   "source": [
    "##"
   ]
  },
  {
   "cell_type": "markdown",
   "metadata": {},
   "source": [
    "## Testing some of the functions to see if they are doing what they are supposed to do"
   ]
  },
  {
   "cell_type": "code",
   "execution_count": 2,
   "metadata": {},
   "outputs": [
    {
     "name": "stdout",
     "output_type": "stream",
     "text": [
      "PI QX\n",
      "IPII IQIX\n"
     ]
    },
    {
     "data": {
      "text/plain": [
       "array([[1.+0.j, 0.+0.j, 0.+0.j, 0.+0.j, 0.+0.j, 0.+0.j, 0.+0.j, 0.+0.j,\n",
       "        0.+0.j, 0.+0.j, 0.+0.j, 0.+0.j, 0.+0.j, 0.+0.j, 0.+0.j, 0.+0.j],\n",
       "       [0.+0.j, 1.+0.j, 0.+0.j, 0.+0.j, 0.+0.j, 0.+0.j, 0.+0.j, 0.+0.j,\n",
       "        0.+0.j, 0.+0.j, 0.+0.j, 0.+0.j, 0.+0.j, 0.+0.j, 0.+0.j, 0.+0.j],\n",
       "       [0.+0.j, 0.+0.j, 1.+0.j, 0.+0.j, 0.+0.j, 0.+0.j, 0.+0.j, 0.+0.j,\n",
       "        0.+0.j, 0.+0.j, 0.+0.j, 0.+0.j, 0.+0.j, 0.+0.j, 0.+0.j, 0.+0.j],\n",
       "       [0.+0.j, 0.+0.j, 0.+0.j, 1.+0.j, 0.+0.j, 0.+0.j, 0.+0.j, 0.+0.j,\n",
       "        0.+0.j, 0.+0.j, 0.+0.j, 0.+0.j, 0.+0.j, 0.+0.j, 0.+0.j, 0.+0.j],\n",
       "       [0.+0.j, 0.+0.j, 0.+0.j, 0.+0.j, 0.+0.j, 1.+0.j, 0.+0.j, 0.+0.j,\n",
       "        0.+0.j, 0.+0.j, 0.+0.j, 0.+0.j, 0.+0.j, 0.+0.j, 0.+0.j, 0.+0.j],\n",
       "       [0.+0.j, 0.+0.j, 0.+0.j, 0.+0.j, 1.+0.j, 0.+0.j, 0.+0.j, 0.+0.j,\n",
       "        0.+0.j, 0.+0.j, 0.+0.j, 0.+0.j, 0.+0.j, 0.+0.j, 0.+0.j, 0.+0.j],\n",
       "       [0.+0.j, 0.+0.j, 0.+0.j, 0.+0.j, 0.+0.j, 0.+0.j, 0.+0.j, 1.+0.j,\n",
       "        0.+0.j, 0.+0.j, 0.+0.j, 0.+0.j, 0.+0.j, 0.+0.j, 0.+0.j, 0.+0.j],\n",
       "       [0.+0.j, 0.+0.j, 0.+0.j, 0.+0.j, 0.+0.j, 0.+0.j, 1.+0.j, 0.+0.j,\n",
       "        0.+0.j, 0.+0.j, 0.+0.j, 0.+0.j, 0.+0.j, 0.+0.j, 0.+0.j, 0.+0.j],\n",
       "       [0.+0.j, 0.+0.j, 0.+0.j, 0.+0.j, 0.+0.j, 0.+0.j, 0.+0.j, 0.+0.j,\n",
       "        1.+0.j, 0.+0.j, 0.+0.j, 0.+0.j, 0.+0.j, 0.+0.j, 0.+0.j, 0.+0.j],\n",
       "       [0.+0.j, 0.+0.j, 0.+0.j, 0.+0.j, 0.+0.j, 0.+0.j, 0.+0.j, 0.+0.j,\n",
       "        0.+0.j, 1.+0.j, 0.+0.j, 0.+0.j, 0.+0.j, 0.+0.j, 0.+0.j, 0.+0.j],\n",
       "       [0.+0.j, 0.+0.j, 0.+0.j, 0.+0.j, 0.+0.j, 0.+0.j, 0.+0.j, 0.+0.j,\n",
       "        0.+0.j, 0.+0.j, 1.+0.j, 0.+0.j, 0.+0.j, 0.+0.j, 0.+0.j, 0.+0.j],\n",
       "       [0.+0.j, 0.+0.j, 0.+0.j, 0.+0.j, 0.+0.j, 0.+0.j, 0.+0.j, 0.+0.j,\n",
       "        0.+0.j, 0.+0.j, 0.+0.j, 1.+0.j, 0.+0.j, 0.+0.j, 0.+0.j, 0.+0.j],\n",
       "       [0.+0.j, 0.+0.j, 0.+0.j, 0.+0.j, 0.+0.j, 0.+0.j, 0.+0.j, 0.+0.j,\n",
       "        0.+0.j, 0.+0.j, 0.+0.j, 0.+0.j, 0.+0.j, 1.+0.j, 0.+0.j, 0.+0.j],\n",
       "       [0.+0.j, 0.+0.j, 0.+0.j, 0.+0.j, 0.+0.j, 0.+0.j, 0.+0.j, 0.+0.j,\n",
       "        0.+0.j, 0.+0.j, 0.+0.j, 0.+0.j, 1.+0.j, 0.+0.j, 0.+0.j, 0.+0.j],\n",
       "       [0.+0.j, 0.+0.j, 0.+0.j, 0.+0.j, 0.+0.j, 0.+0.j, 0.+0.j, 0.+0.j,\n",
       "        0.+0.j, 0.+0.j, 0.+0.j, 0.+0.j, 0.+0.j, 0.+0.j, 0.+0.j, 1.+0.j],\n",
       "       [0.+0.j, 0.+0.j, 0.+0.j, 0.+0.j, 0.+0.j, 0.+0.j, 0.+0.j, 0.+0.j,\n",
       "        0.+0.j, 0.+0.j, 0.+0.j, 0.+0.j, 0.+0.j, 0.+0.j, 1.+0.j, 0.+0.j]])"
      ]
     },
     "execution_count": 2,
     "metadata": {},
     "output_type": "execute_result"
    }
   ],
   "source": [
    "# Testing CNOT gate and printing out gate as String\n",
    "# 1. CNOT0,1=|0⟩⟨0|⊗I+|1⟩⟨1|⊗X for 2 qubits\n",
    "CNOT(0,1,2, printString = True)\n",
    "\n",
    "# 2. CNOT1,3=I⊗|0⟩⟨0|⊗I⊗I+I⊗|1⟩⟨1|⊗I⊗X for 4 qubits\n",
    "CNOT(1,3,4,printString = True)"
   ]
  },
  {
   "cell_type": "code",
   "execution_count": 3,
   "metadata": {},
   "outputs": [
    {
     "name": "stdout",
     "output_type": "stream",
     "text": [
      "Initial state: [0.2+1.j 0. +0.j 1. +0.j 0. +0.j 0.5+0.j 0. +0.j 0. +0.j 5. +0.j]\n",
      "Binary representation: [('000', (0.2+1j)), ('010', (1+0j)), ('100', (0.5+0j)), ('111', (5+0j))]\n",
      "Transformed back to state: [0.2+1.j 0. +0.j 1. +0.j 0. +0.j 0.5+0.j 0. +0.j 0. +0.j 5. +0.j]\n"
     ]
    }
   ],
   "source": [
    "# testing state to binary and binary to state functions\n",
    "n = 3\n",
    "input = np.array([0.2+1j, 0, 1, 0, 0.5, 0, 0, 5])\n",
    "binary = stateToBinary(input, n)\n",
    "state = binaryToState(binary,n)\n",
    "print(f\"Initial state: {input}\")\n",
    "print(f\"Binary representation: {binary}\")\n",
    "print(f\"Transformed back to state: {state}\")"
   ]
  },
  {
   "cell_type": "code",
   "execution_count": 4,
   "metadata": {},
   "outputs": [
    {
     "name": "stdout",
     "output_type": "stream",
     "text": [
      "Initial state [0. 0. 0. 0. 0. 0. 1. 0.]\n",
      "Initial state as binary: [('110', 1.0)]\n",
      "reversed as binary: [('011', (1+0j))]\n",
      "#####################\n",
      "Initial state [1. 0. 0. 0. 0. 0. 0. 0. 0. 0. 0. 0. 0. 0. 0. 0.]\n",
      "Initial state as binary: [('0000', 1.0)]\n",
      "reversed as binary: [('0000', (1+0j))]\n",
      "#####################\n",
      "Initial state [0. 0. 0. 0. 0. 0. 0. 0. 1. 0. 0. 0. 0. 0. 0. 0. 0. 0. 0. 0. 0. 0. 0. 0.\n",
      " 0. 0. 0. 0. 0. 0. 0. 0.]\n",
      "Initial state as binary: [('01000', 1.0)]\n",
      "reversed as binary: [('00010', (1+0j))]\n",
      "#####################\n",
      "Initial state [0. 0. 0. 0. 0. 0. 0. 0. 0. 0. 0. 0. 0. 0. 0. 0. 0. 0. 0. 0. 0. 0. 0. 0.\n",
      " 0. 0. 0. 0. 0. 0. 1. 0. 0. 0. 0. 0. 0. 0. 0. 0. 0. 0. 0. 0. 0. 0. 0. 0.\n",
      " 0. 0. 0. 0. 0. 0. 0. 0. 0. 0. 0. 0. 0. 0. 0. 0.]\n",
      "Initial state as binary: [('011110', 1.0)]\n",
      "reversed as binary: [('011110', (1+0j))]\n",
      "#####################\n",
      "Initial state [0. 0. 0. 0. 0. 0. 0. 0. 0. 0. 0. 0. 0. 0. 0. 0. 0. 0. 0. 0. 0. 0. 0. 0.\n",
      " 0. 0. 0. 0. 0. 0. 0. 0. 0. 0. 0. 0. 0. 0. 0. 0. 0. 0. 0. 0. 0. 0. 0. 0.\n",
      " 0. 0. 0. 0. 0. 0. 0. 0. 0. 0. 0. 0. 0. 0. 0. 0. 0. 0. 0. 0. 0. 0. 0. 0.\n",
      " 0. 0. 0. 0. 0. 0. 0. 0. 0. 0. 1. 0. 0. 0. 0. 0. 0. 0. 0. 0. 0. 0. 0. 0.\n",
      " 0. 0. 0. 0. 0. 0. 0. 0. 0. 0. 0. 0. 0. 0. 0. 0. 0. 0. 0. 0. 0. 0. 0. 0.\n",
      " 0. 0. 0. 0. 0. 0. 0. 0. 0. 0. 0. 0. 0. 0. 0. 0. 0. 0. 0. 0. 0. 0. 0. 0.\n",
      " 0. 0. 0. 0. 0. 0. 0. 0. 0. 0. 0. 0. 0. 0. 0. 0. 0. 0. 0. 0. 0. 0. 0. 0.\n",
      " 0. 0. 0. 0. 0. 0. 0. 0. 0. 0. 0. 0. 0. 0. 0. 0. 0. 0. 0. 0. 0. 0. 0. 0.\n",
      " 0. 0. 0. 0. 0. 0. 0. 0. 0. 0. 0. 0. 0. 0. 0. 0. 0. 0. 0. 0. 0. 0. 0. 0.\n",
      " 0. 0. 0. 0. 0. 0. 0. 0. 0. 0. 0. 0. 0. 0. 0. 0. 0. 0. 0. 0. 0. 0. 0. 0.\n",
      " 0. 0. 0. 0. 0. 0. 0. 0. 0. 0. 0. 0. 0. 0. 0. 0.]\n",
      "Initial state as binary: [('01010010', 1.0)]\n",
      "reversed as binary: [('01001010', (1+0j))]\n",
      "#####################\n"
     ]
    }
   ],
   "source": [
    "# Testing Swap operations\n",
    "\n",
    "nList = [3,4,5,6,8]\n",
    "initialStates = [np.zeros(2**i) for i in nList]\n",
    "for n, state in zip(nList,initialStates):\n",
    "    state[np.random.randint(len(state))] = 1\n",
    "    print(f\"Initial state {state}\")\n",
    "    print(f\"Initial state as binary: {stateToBinary(state,n)}\")\n",
    "    reversed = reverseOrder(state,n)\n",
    "    #print(f\"states with reversed order: {reversed}\")\n",
    "    print(f\"reversed as binary: {stateToBinary(reversed,n)}\")\n",
    "    print(\"#####################\")"
   ]
  },
  {
   "cell_type": "markdown",
   "metadata": {},
   "source": [
    "### Example of QFT  for two qubits on one state, you can compare it to Hundt 169 output and see it matches"
   ]
  },
  {
   "cell_type": "code",
   "execution_count": 5,
   "metadata": {},
   "outputs": [
    {
     "name": "stdout",
     "output_type": "stream",
     "text": [
      "Apply hadamard to 0th qubit\n",
      "Apply CPhase with power 1, IndexC 1, indexA 0\n",
      "-0.5pi\n",
      "Apply hadamard to 1th qubit\n",
      "Own QFT transformed state [ 0.5+0.j   0. +0.5j -0.5+0.j  -0. -0.5j]\n",
      "Matrix QFT transformed state [ 0.5+0.j   0. +0.5j -0.5+0.j  -0. -0.5j]\n",
      "###########################\n",
      "operator\n",
      "[[ 1.+0.j  1.+0.j  1.+0.j  1.+0.j]\n",
      " [ 1.+0.j  0.+1.j -1.+0.j  0.-1.j]\n",
      " [ 1.+0.j -1.+0.j  1.+0.j -1.+0.j]\n",
      " [ 1.+0.j  0.-1.j -1.+0.j  0.+1.j]]\n"
     ]
    }
   ],
   "source": [
    "from utils import QFTMatrix\n",
    "qubits = 2\n",
    "initialState = np.array([0,1,0,0])\n",
    "state , operator = QFT(initialState,qubits)\n",
    "Matrixstate, operatorMatrix = QFTMatrix(initialState,qubits)\n",
    "\n",
    "print(f\"Own QFT transformed state {state}\")\n",
    "print(f\"Matrix QFT transformed state {Matrixstate}\")\n",
    "print(\"###########################\")\n",
    "print(\"operator\")\n",
    "\"\"\"print(2*np.round(operator,2))\n",
    "print(np.matmul(operator, initialState))\n",
    "print(\"OperatorMatrix\")\"\"\"\n",
    "print(2*np.round(operatorMatrix,2))\n",
    "\n",
    "\n",
    "\n",
    "\n",
    "#print(np.round(operator,2).conj().T)\n"
   ]
  },
  {
   "cell_type": "markdown",
   "metadata": {},
   "source": [
    "### same for 3 qubits"
   ]
  },
  {
   "cell_type": "code",
   "execution_count": 11,
   "metadata": {},
   "outputs": [
    {
     "name": "stdout",
     "output_type": "stream",
     "text": [
      "Apply hadamard to 0th qubit\n",
      "Apply CPhase with power 1, IndexC 1, indexA 0\n",
      "-0.5pi\n",
      "Apply CPhase with power 2, IndexC 2, indexA 0\n",
      "-0.25pi\n",
      "Apply hadamard to 1th qubit\n",
      "Apply CPhase with power 1, IndexC 2, indexA 1\n",
      "-0.5pi\n",
      "Apply hadamard to 2th qubit\n",
      "Own QFT transformed state\n",
      " [ 1.4142+0.j     -0.25  +0.1036j  0.3536+0.3536j  0.25  -0.6036j\n",
      "  0.7071+0.j      0.25  +0.6036j  0.3536-0.3536j -0.25  -0.1036j]\n",
      "Matrix QFT transformed state \n",
      "[ 1.4142+0.j     -0.25  +0.1036j  0.3536+0.3536j  0.25  -0.6036j\n",
      "  0.7071-0.j      0.25  +0.6036j  0.3536-0.3536j -0.25  -0.1036j]\n"
     ]
    },
    {
     "data": {
      "text/plain": [
       "'print(\"###########################\")\\nprint(\"operator\")\\nprint(2*np.round(operator,2))\\nprint(np.matmul(operator, initialState))\\nprint(\"OperatorMatrix\")'"
      ]
     },
     "execution_count": 11,
     "metadata": {},
     "output_type": "execute_result"
    }
   ],
   "source": [
    "from utils import QFTMatrix\n",
    "initialState = np.array([1,0,1,0,1,1,0,0])\n",
    "qubits = 3\n",
    "state , operator = QFT(initialState,qubits)\n",
    "Matrixstate, operatorMatrix = QFTMatrix(initialState,qubits)\n",
    "\n",
    "\n",
    "print(f\"Own QFT transformed state\\n {state}\")\n",
    "print(f\"Matrix QFT transformed state \\n{Matrixstate}\")\n",
    "\"\"\"print(\"###########################\")\n",
    "print(\"operator\")\n",
    "print(2*np.round(operator,2))\n",
    "print(np.matmul(operator, initialState))\n",
    "print(\"OperatorMatrix\")\"\"\"\n",
    "#print(2*np.round(operatorMatrix,2))"
   ]
  },
  {
   "cell_type": "markdown",
   "metadata": {},
   "source": [
    "## Thorough Test\n",
    "We can test it for multiple states per qubit number and use numpys allclose() function to compare to arrays, and see how well the two algorithms perform"
   ]
  },
  {
   "cell_type": "code",
   "execution_count": 7,
   "metadata": {},
   "outputs": [
    {
     "name": "stderr",
     "output_type": "stream",
     "text": [
      "C:\\Users\\Markus\\AppData\\Local\\Temp\\ipykernel_27836\\2784396849.py:38: DeprecationWarning: The 'qiskit.Aer' entry point is deprecated and will be removed in Qiskit 1.0. You should use 'qiskit_aer.Aer' directly instead.\n",
      "  backend = Aer.get_backend(\"statevector_simulator\")\n",
      "C:\\Users\\Markus\\AppData\\Local\\Temp\\ipykernel_27836\\2784396849.py:39: DeprecationWarning: The function ``qiskit.execute_function.execute()`` is deprecated as of qiskit 0.46.0. It will be removed in the Qiskit 1.0 release. This function combines ``transpile`` and ``backend.run``, which is covered by ``Sampler`` :mod:`~qiskit.primitives`. Alternatively, you can also run :func:`.transpile` followed by ``backend.run()``.\n",
      "  job = execute(qc,backend)\n",
      "C:\\Users\\Markus\\AppData\\Local\\Temp\\ipykernel_27836\\2784396849.py:39: DeprecationWarning: The function ``qiskit.execute_function.execute()`` is deprecated as of qiskit 0.46.0. It will be removed in the Qiskit 1.0 release. This function combines ``transpile`` and ``backend.run``, which is covered by ``Sampler`` :mod:`~qiskit.primitives`. Alternatively, you can also run :func:`.transpile` followed by ``backend.run()``.\n",
      "  job = execute(qc,backend)\n"
     ]
    },
    {
     "name": "stdout",
     "output_type": "stream",
     "text": [
      "For 2 qubits the own QFT code by scratch managed to predict 100.0 % and the Matrix QFT predicted 100.0 %\n",
      "For 3 qubits the own QFT code by scratch managed to predict 100.0 % and the Matrix QFT predicted 100.0 %\n",
      "For 4 qubits the own QFT code by scratch managed to predict 100.0 % and the Matrix QFT predicted 100.0 %\n",
      "For 5 qubits the own QFT code by scratch managed to predict 100.0 % and the Matrix QFT predicted 100.0 %\n",
      "For 10 qubits the own QFT code by scratch managed to predict 100.0 % and the Matrix QFT predicted 100.0 %\n"
     ]
    }
   ],
   "source": [
    "from qiskit import QuantumCircuit, Aer, execute\n",
    "from qiskit.visualization import plot_histogram\n",
    "import numpy as np\n",
    "from qiskit.circuit.library import QFT as qiskitQFT\n",
    "from numpy.linalg import norm\n",
    "import sys\n",
    "import os\n",
    "\n",
    "class HiddenPrints:\n",
    "    def __enter__(self):\n",
    "        self._original_stdout = sys.stdout\n",
    "        sys.stdout = open(os.devnull, 'w')\n",
    "\n",
    "    def __exit__(self, exc_type, exc_val, exc_tb):\n",
    "        sys.stdout.close()\n",
    "        sys.stdout = self._original_stdout\n",
    "\n",
    "\n",
    "nList = [2,3,4,5,10]\n",
    "statesPerRun = 100\n",
    "\n",
    "totalExperiments = statesPerRun\n",
    "for n in nList:\n",
    "    initialList = [np.random.rand(2**n) for _ in range(statesPerRun)]\n",
    "    initialList = [state/norm(state) for state in initialList]\n",
    "    #with HiddenPrints():\n",
    "    ownQFTcounter = 0\n",
    "    MatrixQFTcounter = 0\n",
    "    for initialState in initialList:\n",
    "        \n",
    "        with HiddenPrints():\n",
    "            print(initialState)\n",
    "            # Use qiskit first\n",
    "            qc = QuantumCircuit(n)\n",
    "            qc.initialize(initialState, range(n))\n",
    "            qft = qiskitQFT(n, do_swaps=True, inverse=False)\n",
    "            qc.append(qft,range(n))\n",
    "            backend = Aer.get_backend(\"statevector_simulator\")\n",
    "            job = execute(qc,backend)\n",
    "            result = job.result()\n",
    "            qiskitState = result.get_statevector(qc)\n",
    "            # now own QFT algorithms\n",
    "            stateMatrix, _ = QFTMatrix(initialState,n)\n",
    "            state,_ = QFT(initialState,n)\n",
    "            # compare to qiskit QFT\n",
    "            threshold = 0.1\n",
    "            print(stateMatrix, qiskitState, state)\n",
    "        if np.allclose(stateMatrix,qiskitState, atol = threshold):\n",
    "            MatrixQFTcounter +=1\n",
    "        if np.allclose(state, qiskitState, atol = threshold):\n",
    "            ownQFTcounter+=1\n",
    "    print(f\"For {n} qubits the own QFT code by scratch managed to predict {ownQFTcounter/totalExperiments*100} % and the Matrix QFT predicted {MatrixQFTcounter/totalExperiments*100} %\")\n"
   ]
  },
  {
   "cell_type": "code",
   "execution_count": 9,
   "metadata": {},
   "outputs": [
    {
     "data": {
      "image/png": "[encoded data removed]",
      "text/plain": [
       "<Figure size 640x480 with 1 Axes>"
      ]
     },
     "metadata": {},
     "output_type": "display_data"
    }
   ],
   "source": [
    "import matplotlib.pyplot as plt\n",
    "\n",
    "\n",
    "words = [\"2\",\"3\",\"4\",\"5\",\"10\"]\n",
    "numbers = [100,100,100,100,100]\n",
    "\n",
    "plt.bar(words, numbers, edgecolor='black')\n",
    "\n",
    "\n",
    "plt.title('Sucess of own QFT algorithm compared to Qiskit')\n",
    "plt.xlabel('num qubits')\n",
    "plt.ylabel('%')\n",
    "\n",
    "# Show plot\n",
    "plt.savefig(\"QFTresults.png\")\n",
    "plt.show()\n"
   ]
  },
  {
   "cell_type": "code",
   "execution_count": null,
   "metadata": {},
   "outputs": [],
   "source": []
  }
 ],
 "metadata": {
  "kernelspec": {
   "display_name": "Python 3",
   "language": "python",
   "name": "python3"
  },
  "language_info": {
   "codemirror_mode": {
    "name": "ipython",
    "version": 3
   },
   "file_extension": ".py",
   "mimetype": "text/x-python",
   "name": "python",
   "nbconvert_exporter": "python",
   "pygments_lexer": "ipython3",
   "version": "3.12.2"
  }
 },
 "nbformat": 4,
 "nbformat_minor": 2
}
