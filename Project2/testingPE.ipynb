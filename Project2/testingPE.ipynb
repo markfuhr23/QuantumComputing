{
 "cells": [
  {
   "cell_type": "code",
   "execution_count": 8,
   "metadata": {},
   "outputs": [
    {
     "name": "stdout",
     "output_type": "stream",
     "text": [
      "Eigenstate: [1.+0.j 0.+0.j]\n",
      "\n",
      " Binary state before applying Hadamard\n",
      " [('0000', (1+0j))]\n",
      "Applying Hadamard to 0 qubit\n",
      " Gate as string: IIHI\n",
      "Applying Hadamard to 1 qubit\n",
      " Gate as string: IHII\n",
      "Applying Hadamard to 2 qubit\n",
      " Gate as string: HIII\n",
      "\n",
      " Binary state after applying Hadamard and before U gates\n",
      " [('0000', (0.3535533905932737+0j)), ('0010', (0.3535533905932737+0j)), ('0100', (0.3535533905932737+0j)), ('0110', (0.3535533905932737+0j)), ('1000', (0.3535533905932737+0j)), ('1010', (0.3535533905932737+0j)), ('1100', (0.3535533905932737+0j)), ('1110', (0.3535533905932737+0j))]\n",
      "Applying CU gate to qubit 0 with exponent 1\n",
      "String for part 1: IIPI and part 2 IIQU\n",
      "Applying CU gate to qubit 1 with exponent 2\n",
      "String for part 1: IPII and part 2 IQIU\n",
      "Applying CU gate to qubit 2 with exponent 4\n",
      "String for part 1: PIII and part 2 QIIU\n",
      "\n",
      " Binary state after applying U gates and before QFT\n",
      " [('0000', (0.3535533905932737+0j)), ('0010', (0.32664074121909403+0.13529902503654923j)), ('0100', (0.24999999999999994+0.24999999999999994j)), ('0110', (0.13529902503654923+0.32664074121909403j)), ('1000', 0.3535533905932737j), ('1010', (-0.13529902503654923+0.32664074121909403j)), ('1100', (-0.24999999999999994+0.24999999999999994j)), ('1110', (-0.32664074121909403+0.13529902503654923j))]\n",
      "\n",
      " Binary state after applying QFT\n",
      " [('0000', (0.12499999999999999+0.6284174365157308j)), ('0010', (0.12500000000000008-0.6284174365157308j)), ('0100', (0.12500000000000003-0.18707572033318604j)), ('0110', (0.12499999999999985-0.08352232973991246j)), ('1000', (0.12499999999999997-0.024864045922457185j)), ('1010', (0.12500000000000003+0.02486404592245715j)), ('1100', (0.12500000000000017+0.08352232973991211j)), ('1110', (0.12499999999999964+0.18707572033318604j))]\n",
      "0000\n",
      "0001\n",
      "1\n",
      "0010\n",
      "0.5\n",
      "0011\n",
      "0.5\n",
      "1\n",
      "0100\n",
      "0.25\n",
      "0101\n",
      "0.25\n",
      "1\n",
      "0110\n",
      "0.25\n",
      "0.5\n",
      "0111\n",
      "0.25\n",
      "0.5\n",
      "1\n",
      "To be evaluated eigenvalue: (0.06250000000000001+2.208718528794109e-18j)\n",
      "Estimated eigenvalue: (0.4374999999999998+0.07279902503654896j) with 3 qubits of precision.\n"
     ]
    }
   ],
   "source": [
    "import numpy as np\n",
    "from utils import kronString, stateToBinary, reverseOrder\n",
    "\n",
    "\n",
    "\"\"\" \n",
    "###################################\n",
    "Qubit ordering: left: highest, right lowest\n",
    "\n",
    "Example: 01010: 0th qubit is the one at the right\n",
    "\n",
    "If we want to apply a X gate to the first qubit, we need to apply the gate\n",
    "\n",
    "I x I x I x X x I\n",
    "\n",
    "###################################\n",
    "\"\"\"\n",
    "\n",
    "\n",
    "\n",
    "\n",
    "H1 = 1/np.sqrt(2)*np.array([[1,1],[1,-1]], dtype=complex)\n",
    "I1= np.array([[1,0],[0,1]],dtype=complex)\n",
    "X1 = np.array([[0,1],[1,0]])\n",
    "#projection operators\n",
    "p0 =  np.array([[1,0],[0,0]],dtype=complex)\n",
    "p1 = np.array([[0,0],[0,1]],dtype=complex)\n",
    "\n",
    "def omega(i,j,n):\n",
    "    return np.exp(2*np.pi*1j/2**n * i*j)\n",
    "\n",
    "def QFTMatrix(n):\n",
    "    # n: number of qubits\n",
    "    N = 2**n\n",
    "    # create a n x n dimensional np.array with ones in it\n",
    "    operator = np.ones((N,N), dtype=complex)\n",
    "    # now fill in the lower right square of the matrix with the powers of omega\n",
    "    for i in range(1,N):\n",
    "        for j in range(1,N):\n",
    "            operator[i,j] = omega(i,j,n)\n",
    "    # add normalization\n",
    "    operator = operator*1/(N**0.5)\n",
    "    return operator\n",
    "\n",
    "def kronStringPE(string, operator):\n",
    "    \"\"\"\n",
    "    Copy of kronString() from QFT code, changed a little bit for PE application\n",
    "    Turn a string with single qubit gate instructions into kronecker products. We need to take into account, that the string\n",
    "    needs to be iterated through backwards, because for example a X gate on the 1st qubit with 5 qubits in total would be\n",
    "    I x Ix I x X x I.\n",
    "\n",
    "    Input: string: String with single Qubit names, power: angle for phase gate\n",
    "\n",
    "    Output: Kronecker product of all input gates, numpy array of shape 2**len(string)\n",
    "    \n",
    "    \"\"\"\n",
    "    strList = list(string)\n",
    "    #print(strList)\n",
    "    strList = strList[::-1]\n",
    "    if strList[0] == \"U\":\n",
    "        prod = operator\n",
    "    elif strList[0] == \"P\":\n",
    "        prod = p0\n",
    "    elif strList[0] == \"Q\":\n",
    "        prod = p1\n",
    "    else:\n",
    "        prod = I1\n",
    "    for matrix in strList[1:]:\n",
    "        if matrix == \"U\":\n",
    "            prod = np.kron(operator,prod)\n",
    "        elif matrix == \"P\":\n",
    "            prod = np.kron(p0,prod)\n",
    "        elif matrix == \"Q\":\n",
    "            prod = np.kron(p1,prod)\n",
    "        else:\n",
    "            prod = np.kron(I1,prod)\n",
    "    return prod\n",
    "\n",
    "# copy of the CNOT function from the QFT, we can just swap the X with the unitary\n",
    "def CU(controlling,t,n, operator, printString=False):\n",
    "    \"\"\"\n",
    "    A CNOT gate can be writte as CU,1=|0⟩⟨0|⊗I+|1⟩⟨1|⊗U for example.\n",
    "    The outer products are at the position of the first index, whereas the X is on the right at the position of the second index.\n",
    "    another example: CNOT1,3=I⊗|0⟩⟨0|⊗I⊗I+I⊗|1⟩⟨1|⊗I⊗X\n",
    "\n",
    "    In the PE case, the controlling bit is some different one from the upper register and the controlled one is always the lower register.\n",
    "    Therefore we just ignor U while creating the upper part for of the gate for the controlling part and then after the loop, add the controlled\n",
    "    part. Here we take into account, that U might be bigger than 2x2 so we add a number of identities, that matches the qubits needed, for U.\n",
    "    \"\"\"\n",
    "    # create strings for both parts to feed into kronString() function to calculate the products\n",
    "    part1 = \"\"; part2 = \"\"\n",
    "    \"\"\" \n",
    "    we need to reverse the controlling index passed from the applyU() function. This is because applyU() gives qubit index 0 for the\n",
    "    most right qubit in the t register.\n",
    "    \"\"\"\n",
    "    for i in range(t):\n",
    "        if i == t-1-controlling:\n",
    "            # p0 = P, p1 = Q, my kron function gets screwed up, because of list(str) for two letter names\n",
    "            part1 += \"P\"\n",
    "            part2 += \"Q\"\n",
    "        else:\n",
    "            part1 += \"I\" \n",
    "            part2 += \"I\" \n",
    "    for i in range(n):\n",
    "        part1 += \"I\" \n",
    "        part2 += \"U\" \n",
    "    if printString == True:\n",
    "        print(part1,part2)\n",
    "    print(f\"String for part 1: {part1} and part 2 {part2}\")\n",
    "    gate = kronStringPE(part1, operator) + kronStringPE(part2, operator)\n",
    "    return gate\n",
    "\n",
    "\n",
    "def applyHadamards(t,n, state):\n",
    "    \"\"\" \n",
    "    Qubit ordering described at the top!\n",
    "\n",
    "    Hadamard on the 0th qubit (with t=3) would be: I x I x H\n",
    "    We can easily check if the Hadamard operation is correct, by looking at the binary representation of our state\n",
    "    after the hadamard gates. The qubits representing the eigenstate, shouldnt have chagned, whereas all the other ones\n",
    "    should exist as 0 and 1\n",
    "\n",
    "    \"\"\"\n",
    "    # Apply Hadamard gate to all qubits of register t\n",
    "    for i in range(t):\n",
    "        # create a hadamard gate string for the qubits in t\n",
    "        gateStr = \"\"\n",
    "        for j in range(t):\n",
    "            if j == i:\n",
    "                gateStr = \"H\" + gateStr\n",
    "                print(f\"Applying Hadamard to {i} qubit\")\n",
    "            else:\n",
    "                gateStr = \"I\" + gateStr\n",
    "        # add identities for the lower register\n",
    "        for i in range(n):\n",
    "            gateStr = gateStr + \"I\" \n",
    "        #print(f\"Shape of gate: {kronString(gateStr).shape[0]}, shape of state {state.shape[0]}\")\n",
    "        print(f\" Gate as string: {gateStr}\")\n",
    "        state = np.matmul(kronString(gateStr), state)\n",
    "\n",
    "    return state\n",
    "\n",
    "def applyInverseQFT(t,unitary):\n",
    "    # first we need to add identites make the QFT matrix bigger and add identitys, so it  can be applied on the full\n",
    "    # register but leaves the lower register unchanged\n",
    "    \n",
    "    finalQFT = np.kron(QFTMatrix(t).conj().T, np.identity(unitary.shape[0]))\n",
    "    #print(\"QFT Matrix:\")\n",
    "    #print(np.round(finalQFT,2))\n",
    "    return finalQFT\n",
    "\n",
    "def applyU(t,n,state, unitary):\n",
    "    # for each qubit in the upper register\n",
    "    for i in range(t):\n",
    "        # we start with the 0th qubit (most right qubit, befor the n eigenstate qubits)\n",
    "        # apply U i times: for example. for the t-1th bit we apply U 2^(t-1) times\n",
    "        print(f\"Applying CU gate to qubit {i} with exponent {2**(i)}\")\n",
    "        controlledU = CU(controlling = i, t=t, n =n, operator = unitary)\n",
    "        for j in range(2**(i)):\n",
    "            # create the controlled phase gate that puts the phase from U onto the one qubit\n",
    "            state = np.matmul(controlledU, state)\n",
    "    return state\n",
    "\n",
    "def calculatePhase(t,n, unitary, eigenstate):\n",
    "\n",
    "    # prepare eigenstate in lower register\n",
    "    upperState = np.zeros(2**t)\n",
    "    upperState[0] = 1\n",
    "    state = np.kron(upperState, eigenstate)\n",
    "    #print(state)\n",
    "    #print(state)\n",
    "\n",
    "    print(f\"\\n Binary state before applying Hadamard\\n {stateToBinary(state,t+n)}\")\n",
    "    state = applyHadamards(t,n,state)\n",
    "\n",
    "    print(f\"\\n Binary state after applying Hadamard and before U gates\\n {stateToBinary(state,t+n)}\")\n",
    "    # Now apply exponentiated U gates to upper register\n",
    "    state = applyU(t,n,state,unitary)\n",
    "    print(f\"\\n Binary state after applying U gates and before QFT\\n {stateToBinary(state,t+n)}\")\n",
    "    # now to inverse QFT\n",
    "    state = np.matmul(applyInverseQFT(t, unitary),state)\n",
    "    print(f\"\\n Binary state after applying QFT\\n {stateToBinary(state,t+n)}\")\n",
    "\n",
    "\n",
    "    \"\"\" \n",
    "    Now we need to extract the phases from the final state. This is a bit more complicated because of my choice of representation. I can choose\n",
    "    between the general state in the 2**(t+n) product space, or I can choose the binary representation. Because you can't really read out of the \n",
    "    product space, which qubit is in which state, I will have to use the binary representation. The algorithm for this is following:\n",
    "\n",
    "    1. Our final state is a super position of many states. So we need to iterate through every binary state.\n",
    "    2. For each of the state, we calculate the total phase. For example first state: \"0 00\" where the space\n",
    "    indicates, where computational and eigenstate register split (remember, that we reversed the qubits at some point, when you look at the output, you see\n",
    "    that the first qubit (after the reversing order) is always 0, as it should be, because it's the unchanging eigenstate (in the case of a 2x2 Unitary matrix)).\n",
    "    Here the phase gain is 0. For \"0 10\" we would have \"Eigenstate Phi1 Phi0\", so we would have a phase gain of \n",
    "\n",
    "    amplitude of this state * 2^-1\n",
    "    \"\"\"\n",
    "\n",
    "    \n",
    "    # reverse Order because I saw it somewhere?\n",
    "    state = reverseOrder(state,t+n)\n",
    "    # tupel representation [(\"0101\", amplitude)]\n",
    "    # convert state into binary\n",
    "    binaryState = stateToBinary(state, t+n)\n",
    "    binaryCombinations = [tup[0] for tup in binaryState]\n",
    "    amplitudes =  [tup[1] for tup in binaryState]\n",
    "    phase = 0\n",
    "    # 1. iterate through all the states\n",
    "    for combination in binaryCombinations:\n",
    "        # transfer it into list of integers\n",
    "        combinationint = [int(i) for i in combination]\n",
    "        print(combination)\n",
    "        # the first n qubits are reserved for the eigenstate\n",
    "        for i in range(n,t+n):\n",
    "            # the most left qubit (after n, remember we have) gets 1 as a factor, the second right gets 0.5 and so on\n",
    "            # we are going from left to right, so we have start with the biggest fraction. First one is 2**(-(t-1))\n",
    "            # add prints again to check\n",
    "            if combinationint[i] == 1:\n",
    "                print(2**(-1*(t-1+n-i)))\n",
    "                phase += amplitudes[binaryCombinations.index(combination)]*2**(-1*(t-i+1))\n",
    "\n",
    "    return phase\n",
    "\n",
    "def phaseEstimation(unitary):\n",
    "\n",
    "    # calculate to be estimated values\n",
    "    eigenvalues, eigenstates = np.linalg.eig(unitary)\n",
    "    \n",
    "    # convert eigenvalues to phases\n",
    "    eigenvalues = np.log(eigenvalues) / (2*np.pi*1j)\n",
    "    # make eigenvalues positiv\n",
    "    for i in range(len(eigenvalues)):\n",
    "        if eigenvalues[i] < 0:\n",
    "            eigenvalues[i] += 1\n",
    "    print(f\"Eigenstate: {eigenstates[0]}\")\n",
    "    t = 3\n",
    "    n = int(np.log2(unitary.shape[0]))\n",
    "    phase = calculatePhase(t,n, unitary, eigenstates[0])\n",
    "\n",
    "\n",
    "    print(f\"To be evaluated eigenvalue: {eigenvalues[0]}\")\n",
    "    print(f\"Estimated eigenvalue: {phase} with {t} qubits of precision.\")\n",
    "\n",
    "\n",
    "unitary = np.array([[np.e**(2*np.pi*1j*0.0625),0],[0,1]])\n",
    "\n",
    "phaseEstimation(unitary)"
   ]
  },
  {
   "cell_type": "markdown",
   "metadata": {},
   "source": [
    "So the above python cell is quite thorough on outputs, because the phase estimation does not always work. But sometimes it works. So instead of spending more time on trouble shooting I rather go into coding something else again and I will try to evaluate how often or how well my phase estimation works. With this at least I can train some plotting skills. The idea is to do the phase\n",
    "estimation for some random eigenvalues of a 2x2 matrix for different qubit numbers and compare, how the error behaves."
   ]
  },
  {
   "cell_type": "code",
   "execution_count": 2,
   "metadata": {},
   "outputs": [
    {
     "name": "stderr",
     "output_type": "stream",
     "text": [
      " 14%|█▍        | 1/7 [00:00<00:03,  1.78it/s]"
     ]
    },
    {
     "name": "stdout",
     "output_type": "stream",
     "text": [
      "Minimum error for t = 2 is 0.00011594308192504014\n",
      "propability for a good guess is approximately 10.6%\n"
     ]
    },
    {
     "name": "stderr",
     "output_type": "stream",
     "text": [
      " 29%|██▊       | 2/7 [00:01<00:05,  1.00s/it]"
     ]
    },
    {
     "name": "stdout",
     "output_type": "stream",
     "text": [
      "Minimum error for t = 3 is 0.0007337274345586461\n",
      "propability for a good guess is approximately 10.9%\n"
     ]
    },
    {
     "name": "stderr",
     "output_type": "stream",
     "text": [
      " 43%|████▎     | 3/7 [00:04<00:06,  1.57s/it]"
     ]
    },
    {
     "name": "stdout",
     "output_type": "stream",
     "text": [
      "Minimum error for t = 4 is 0.000980540572016352\n",
      "propability for a good guess is approximately 9.8%\n"
     ]
    },
    {
     "name": "stderr",
     "output_type": "stream",
     "text": [
      " 57%|█████▋    | 4/7 [00:11<00:11,  3.78s/it]"
     ]
    },
    {
     "name": "stdout",
     "output_type": "stream",
     "text": [
      "Minimum error for t = 5 is 0.0004983000172757592\n",
      "propability for a good guess is approximately 11.0%\n"
     ]
    },
    {
     "name": "stderr",
     "output_type": "stream",
     "text": [
      " 71%|███████▏  | 5/7 [00:29<00:17,  8.88s/it]"
     ]
    },
    {
     "name": "stdout",
     "output_type": "stream",
     "text": [
      "Minimum error for t = 6 is 0.0003506135981792534\n",
      "propability for a good guess is approximately 9.9%\n"
     ]
    },
    {
     "name": "stderr",
     "output_type": "stream",
     "text": [
      " 86%|████████▌ | 6/7 [02:21<00:44, 44.03s/it]"
     ]
    },
    {
     "name": "stdout",
     "output_type": "stream",
     "text": [
      "Minimum error for t = 7 is 0.00043935985603418945\n",
      "propability for a good guess is approximately 11.3%\n"
     ]
    },
    {
     "name": "stderr",
     "output_type": "stream",
     "text": [
      "100%|██████████| 7/7 [10:30<00:00, 90.08s/it] "
     ]
    },
    {
     "name": "stdout",
     "output_type": "stream",
     "text": [
      "Minimum error for t = 8 is 9.426868316517495e-06\n",
      "propability for a good guess is approximately 11.600000000000001%\n"
     ]
    },
    {
     "name": "stderr",
     "output_type": "stream",
     "text": [
      "\n"
     ]
    }
   ],
   "source": [
    "import matplotlib.pyplot as plt\n",
    "import numpy as np\n",
    "from PEutils import phaseEstimation\n",
    "import time\n",
    "from tqdm import tqdm\n",
    "\n",
    "\n",
    "tList = [2,3,4,5,6,7,8]\n",
    "\n",
    "numExperiments = 1000\n",
    "errors = []\n",
    "\n",
    "# for each number of computational qubits\n",
    "for t in tqdm(tList):\n",
    "    # do several experiments aka random matrix to be evaluated\n",
    "    averageError = []\n",
    "    minError = 1000\n",
    "    threshold = 0.05\n",
    "    goodGuess = 0\n",
    "    for i in range(numExperiments):\n",
    "        randomPhase = np.random.rand()\n",
    "        unitary = np.array([[np.exp(2*np.pi*1j*randomPhase),0],[0,1]])\n",
    "        expected , estimated = phaseEstimation(t,unitary)\n",
    "        error = np.abs(expected-estimated)\n",
    "        if error < minError:\n",
    "            minError = error\n",
    "        if error < threshold:\n",
    "            goodGuess += 1\n",
    "\n",
    "\n",
    "\n",
    "        averageError.append(error)\n",
    "    print(f\"Minimum error for t = {t} is {minError}\")\n",
    "    print(f\"propability for a good guess is approximately {goodGuess/numExperiments * 100}%\")\n",
    "    errors.append(np.sum(averageError)/numExperiments)\n",
    "\n",
    "\n"
   ]
  },
  {
   "cell_type": "code",
   "execution_count": 3,
   "metadata": {},
   "outputs": [
    {
     "data": {
      "image/png": "[encoded data removed]",
      "text/plain": [
       "<Figure size 640x480 with 1 Axes>"
      ]
     },
     "metadata": {},
     "output_type": "display_data"
    }
   ],
   "source": [
    "plt.plot(tList,errors)\n",
    "plt.title(\"Difference of phase estimation for different t-register sizes\")\n",
    "plt.xlabel(\"t\")\n",
    "plt.ylabel(\"error\")\n",
    "plt.savefig(\"PEresult1.png\")"
   ]
  },
  {
   "cell_type": "code",
   "execution_count": 4,
   "metadata": {},
   "outputs": [
    {
     "name": "stdout",
     "output_type": "stream",
     "text": [
      "[('000', (0.7071067811865475+0j)), ('001', (0.7071067811865475+0j))]\n",
      "[('000', (0.7071067811865475+0j)), ('001', (0.7071067811865475+0j))]\n"
     ]
    }
   ],
   "source": [
    "state = np.array([1,0,0,0,0,0,0,0])\n",
    "n = 3\n",
    "state1 = np.matmul(np.kron(I1,np.kron(I1,H1)),state)\n",
    "state2 = np.matmul(kronString(\"IIH\"), state)\n",
    "print(stateToBinary(state1,n))\n",
    "print(stateToBinary(state2,n))"
   ]
  },
  {
   "cell_type": "code",
   "execution_count": 5,
   "metadata": {},
   "outputs": [
    {
     "name": "stdout",
     "output_type": "stream",
     "text": [
      "[('00', 1)] [('1', 1)] [('001', 1)]\n"
     ]
    }
   ],
   "source": [
    "state1 = np.array([1,0,0,0])\n",
    "state2 = np.array([0,1])\n",
    "state = np.kron(state1, state2)\n",
    "print(stateToBinary(state1,2), stateToBinary(state2,1), stateToBinary(state,3))"
   ]
  },
  {
   "cell_type": "code",
   "execution_count": 6,
   "metadata": {},
   "outputs": [
    {
     "ename": "IndentationError",
     "evalue": "unexpected indent (3716968658.py, line 2)",
     "output_type": "error",
     "traceback": [
      "\u001b[1;36m  Cell \u001b[1;32mIn[6], line 2\u001b[1;36m\u001b[0m\n\u001b[1;33m    phase = 0\u001b[0m\n\u001b[1;37m    ^\u001b[0m\n\u001b[1;31mIndentationError\u001b[0m\u001b[1;31m:\u001b[0m unexpected indent\n"
     ]
    }
   ],
   "source": [
    "# the phase is the amplitude of each bit times 2^-position of bit \n",
    "    phase = 0\n",
    "    # skip the first n qubits, because they belong to the eigenstate\n",
    "    for i in range(n,t+n):\n",
    "        print(f\" n: {n}, i: {i}, i-n {i-n}\")\n",
    "        # get the string of the binary representation i.e. \"00101\"\n",
    "        binary = binaryState[i]\n",
    "        binaryList = list(binary[0])\n",
    "        binaryList = [int(i) for i in binaryList]\n",
    "        print(binaryList[i-n])\n",
    "        if binaryList[i-n] == 1:\n",
    "            print(i-n)\n",
    "            phase += binaryState[i][1] * 2**(-i-n)"
   ]
  }
 ],
 "metadata": {
  "kernelspec": {
   "display_name": "Python 3",
   "language": "python",
   "name": "python3"
  },
  "language_info": {
   "codemirror_mode": {
    "name": "ipython",
    "version": 3
   },
   "file_extension": ".py",
   "mimetype": "text/x-python",
   "name": "python",
   "nbconvert_exporter": "python",
   "pygments_lexer": "ipython3",
   "version": "3.12.2"
  }
 },
 "nbformat": 4,
 "nbformat_minor": 2
}
