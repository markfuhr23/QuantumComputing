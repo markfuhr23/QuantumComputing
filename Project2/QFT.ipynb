{
 "cells": [
  {
   "cell_type": "code",
   "execution_count": 3,
   "metadata": {},
   "outputs": [
    {
     "name": "stdout",
     "output_type": "stream",
     "text": [
      "Apply h on  0\n",
      "0 0\n",
      "apply cp on  0 with controll  1\n",
      "Apply h on  1\n",
      "{'00': 2485, '01': 2476, '11': 2439, '10': 2600}\n"
     ]
    },
    {
     "data": {
      "text/html": [
       "<pre style=\"word-wrap: normal;white-space: pre;background: #fff0;line-height: 1.1;font-family: &quot;Courier New&quot;,Courier,monospace\">             ░ ┌───┐            ┌─┐   \n",
       "q15_0: ──────░─┤ H ├─■──────────┤M├───\n",
       "       ┌───┐ ░ └───┘ │P(π) ┌───┐└╥┘┌─┐\n",
       "q15_1: ┤ X ├─░───────■─────┤ H ├─╫─┤M├\n",
       "       └───┘ ░             └───┘ ║ └╥┘\n",
       " c2: 2/══════════════════════════╩══╩═\n",
       "                                 0  1 </pre>"
      ],
      "text/plain": [
       "             ░ ┌───┐            ┌─┐   \n",
       "q15_0: ──────░─┤ H ├─■──────────┤M├───\n",
       "       ┌───┐ ░ └───┘ │P(π) ┌───┐└╥┘┌─┐\n",
       "q15_1: ┤ X ├─░───────■─────┤ H ├─╫─┤M├\n",
       "       └───┘ ░             └───┘ ║ └╥┘\n",
       " c2: 2/══════════════════════════╩══╩═\n",
       "                                 0  1 "
      ]
     },
     "execution_count": 3,
     "metadata": {},
     "output_type": "execute_result"
    }
   ],
   "source": [
    "import qiskit as qc\n",
    "import numpy as np\n",
    "from qiskit_aer import AerSimulator\n",
    "from qiskit import transpile\n",
    "import time\n",
    "\n",
    "# def the n-th root of unity. M is the number of qubits and a the power\n",
    "def phi(M,a):\n",
    "    return 2*np.pi*a/M\n",
    "\n",
    "\n",
    "# function to perform qft for n qubits\n",
    "def QFT(n, circuit, upReg):\n",
    "    \"\"\"Mth qubit is controlled. We apply first H to 0th qubit. Then w to 0th qubit as well. In the second iteration we apply H to the first qubit and w to the 0th\n",
    "    and w^2 to the first. For the jth iteration we have H at the jth qubit and the w^j for j= 2^k for all qubits from k = 0...j\"\"\"\n",
    "    i = 0\n",
    "    while i < n:\n",
    "        #print(i,k)\n",
    "        print(\"Apply h on \", i)\n",
    "        circuit.h(upReg[i])\n",
    "        k = 0\n",
    "        if i == n-1:\n",
    "            break\n",
    "        # now apply phase to all qubits from 0 to i (excluding)\n",
    "        while k < i+1:\n",
    "            print(i,k)\n",
    "            print(\"apply cp on \", k, \"with controll \", i+1)\n",
    "            circuit.cp(phi(n,2**k),upReg[i+1], upReg[k])\n",
    "            k+=1\n",
    "        i+=1\n",
    "\n",
    "\n",
    "# initialize circuit\n",
    "n = 2\n",
    "cReg = qc.ClassicalRegister(n)\n",
    "qReg = qc.QuantumRegister(n)\n",
    "qReg2 = qc.QuantumRegister(n)\n",
    "qc = qc.QuantumCircuit(qReg,cReg)\n",
    "# prepare state |00> = (1,0,0,0) and test QFT on it\n",
    "qc.x(qReg[1])\n",
    "\n",
    "\n",
    "qc.barrier()\n",
    "QFT(n, qc,qReg)\n",
    "#QFT(n,qc, qReg)\n",
    "\n",
    "\n",
    "\n",
    "qc.measure(qReg, cReg)\n",
    "\n",
    "# simulate the quantum circuit\n",
    "simulator = AerSimulator()\n",
    "new_circuit = transpile(qc,simulator)\n",
    "job = simulator.run(new_circuit, shots = 10000)\n",
    "counts = job.result().get_counts(qc)\n",
    "#statevector = job.result().get_statevector(qc)\n",
    "#print(statevector)\n",
    "print(counts)\n",
    "qc.draw()\n"
   ]
  },
  {
   "cell_type": "markdown",
   "metadata": {},
   "source": [
    "### Build a function that takes any vector as input, turns it into qubit representation and then creates the circuit for this vector"
   ]
  },
  {
   "cell_type": "code",
   "execution_count": null,
   "metadata": {},
   "outputs": [],
   "source": [
    "# function to turn a vector into circuit\n",
    "def vectorToCircuit(vector, qc):\n",
    "    # check if vector has dimensionality of 2^n\n",
    "    if len(vector) % 2 == 0:\n",
    "        # turn vector into binary representation\n",
    "    else:\n",
    "        print(\"Dimensionality of vector is not a power of 2. Bit more complicated, because you need one mor bit lol\")\n",
    "\n",
    "# function to turn binary expression of vector like |01> into circuit"
   ]
  },
  {
   "cell_type": "code",
   "execution_count": 99,
   "metadata": {},
   "outputs": [
    {
     "name": "stdout",
     "output_type": "stream",
     "text": [
      "[1.+0.j 0.+0.j 0.+0.j 0.+0.j]\n"
     ]
    }
   ],
   "source": [
    "\n",
    "from qiskit.providers.basic_provider import BasicProvider\n",
    "from qiskit import QuantumCircuit, QuantumRegister\n",
    "provider = BasicProvider()\n",
    "backend = provider.get_backend(\"basic_simulator\")\n",
    "\n",
    "def ansatz(qc, qr, theta1, theta2, phi1, phi2):\n",
    "    qc.rx(theta1, qr[0])\n",
    "    qc.ry(phi1, qr[0])\n",
    "    qc.rx(theta2, qr[1])\n",
    "    qc.ry(phi2, qr[1])\n",
    "    qc.cx(qr[0], qr[1])\n",
    "    return qc\n",
    "# Define the amplitudes for the basis states\n",
    "amplitude_00 = 0.25\n",
    "amplitude_01 = 0.25\n",
    "amplitude_10 = 0\n",
    "amplitude_11 = 0.5\n",
    "qreg = QuantumRegister(2)\n",
    "qc = QuantumCircuit(qreg)\n",
    "# Apply single-qubit rotation gates to set the amplitudes\n",
    "#qc.ry(2 * np.arcsin(np.sqrt(0.5)), qreg[1])\n",
    "#qc.ry(2 * np.arcsin(np.sqrt(0.5)), qreg[0])  # |0⟩ state\n",
    "\n",
    "qc = ansatz(qc,qreg,0,0,0,0)\n",
    " \n",
    " \n",
    "# New path\n",
    "from qiskit.quantum_info import Statevector\n",
    "statevector = Statevector(qc)\n",
    "print(statevector.data)"
   ]
  },
  {
   "cell_type": "code",
   "execution_count": 78,
   "metadata": {},
   "outputs": [
    {
     "ename": "IndexError",
     "evalue": "list index out of range",
     "output_type": "error",
     "traceback": [
      "\u001b[1;31m---------------------------------------------------------------------------\u001b[0m",
      "\u001b[1;31mIndexError\u001b[0m                                Traceback (most recent call last)",
      "Cell \u001b[1;32mIn[78], line 30\u001b[0m\n\u001b[0;32m     27\u001b[0m psi \u001b[38;5;241m=\u001b[39m np\u001b[38;5;241m.\u001b[39marray([\u001b[38;5;241m1\u001b[39m\u001b[38;5;241m/\u001b[39mnp\u001b[38;5;241m.\u001b[39msqrt(\u001b[38;5;241m2\u001b[39m), \u001b[38;5;241m0\u001b[39m, \u001b[38;5;241m0\u001b[39m, \u001b[38;5;241m1\u001b[39m\u001b[38;5;241m/\u001b[39mnp\u001b[38;5;241m.\u001b[39msqrt(\u001b[38;5;241m2\u001b[39m)])  \u001b[38;5;66;03m# Example state vector for |00⟩ + |11⟩\u001b[39;00m\n\u001b[0;32m     29\u001b[0m \u001b[38;5;66;03m# Create the state preparation circuit\u001b[39;00m\n\u001b[1;32m---> 30\u001b[0m prep_circuit \u001b[38;5;241m=\u001b[39m \u001b[43mstate_preparation_circuit\u001b[49m\u001b[43m(\u001b[49m\u001b[43mpsi\u001b[49m\u001b[43m)\u001b[49m\n\u001b[0;32m     32\u001b[0m \u001b[38;5;66;03m# Draw the circuit\u001b[39;00m\n\u001b[0;32m     33\u001b[0m \u001b[38;5;28mprint\u001b[39m(prep_circuit\u001b[38;5;241m.\u001b[39mdraw())\n",
      "Cell \u001b[1;32mIn[78], line 22\u001b[0m, in \u001b[0;36mstate_preparation_circuit\u001b[1;34m(vector)\u001b[0m\n\u001b[0;32m     20\u001b[0m     \u001b[38;5;28;01mif\u001b[39;00m amplitude \u001b[38;5;241m!=\u001b[39m \u001b[38;5;241m0\u001b[39m:\n\u001b[0;32m     21\u001b[0m         angle \u001b[38;5;241m=\u001b[39m \u001b[38;5;241m2\u001b[39m \u001b[38;5;241m*\u001b[39m np\u001b[38;5;241m.\u001b[39marcsin(amplitude)\n\u001b[1;32m---> 22\u001b[0m         qcircuit\u001b[38;5;241m.\u001b[39mry(\u001b[38;5;241m2\u001b[39m \u001b[38;5;241m*\u001b[39m angle, \u001b[43mqreg\u001b[49m\u001b[43m[\u001b[49m\u001b[43midx\u001b[49m\u001b[43m]\u001b[49m)\n\u001b[0;32m     24\u001b[0m \u001b[38;5;28;01mreturn\u001b[39;00m qcircuit\n",
      "File \u001b[1;32m~\\AppData\\Roaming\\Python\\Python312\\site-packages\\qiskit\\circuit\\register.py:171\u001b[0m, in \u001b[0;36mRegister.__getitem__\u001b[1;34m(self, key)\u001b[0m\n\u001b[0;32m    169\u001b[0m         \u001b[38;5;28;01mraise\u001b[39;00m CircuitError(\u001b[38;5;124m\"\u001b[39m\u001b[38;5;124mregister index out of range\u001b[39m\u001b[38;5;124m\"\u001b[39m)\n\u001b[0;32m    170\u001b[0m \u001b[38;5;28;01melse\u001b[39;00m:\n\u001b[1;32m--> 171\u001b[0m     \u001b[38;5;28;01mreturn\u001b[39;00m \u001b[38;5;28;43mself\u001b[39;49m\u001b[38;5;241;43m.\u001b[39;49m\u001b[43m_bits\u001b[49m\u001b[43m[\u001b[49m\u001b[43mkey\u001b[49m\u001b[43m]\u001b[49m\n",
      "\u001b[1;31mIndexError\u001b[0m: list index out of range"
     ]
    }
   ],
   "source": [
    "import qiskit as qc\n",
    "import numpy as np\n",
    "n = 2\n",
    "qreg = qc.QuantumRegister(n)\n",
    "creg = qc.ClassicalRegister(n)\n",
    "qc = qc.QuantumCircuit(n,qreg,creg)\n",
    "\n"
   ]
  },
  {
   "cell_type": "code",
   "execution_count": null,
   "metadata": {},
   "outputs": [],
   "source": []
  }
 ],
 "metadata": {
  "kernelspec": {
   "display_name": "Python 3",
   "language": "python",
   "name": "python3"
  },
  "language_info": {
   "codemirror_mode": {
    "name": "ipython",
    "version": 3
   },
   "file_extension": ".py",
   "mimetype": "text/x-python",
   "name": "python",
   "nbconvert_exporter": "python",
   "pygments_lexer": "ipython3",
   "version": "3.12.2"
  }
 },
 "nbformat": 4,
 "nbformat_minor": 2
}
