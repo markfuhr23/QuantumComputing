{
 "cells": [
  {
   "cell_type": "markdown",
   "id": "90ae9d90",
   "metadata": {
    "editable": true
   },
   "source": [
    "<!-- HTML file automatically generated from DocOnce source (https://github.com/doconce/doconce/)\n",
    "doconce format html week13.do.txt --no_mako -->\n",
    "<!-- dom:TITLE: Quantum Computing, Quantum Machine Learning and Quantum Information Theories -->"
   ]
  },
  {
   "cell_type": "markdown",
   "id": "a674dbca",
   "metadata": {
    "editable": true
   },
   "source": [
    "# Quantum Computing, Quantum Machine Learning and Quantum Information Theories\n",
    "**Morten Hjorth-Jensen**, Department of Physics, University of Oslo and Department of Physics and Astronomy and Facility for Rare Isotope Beams, Michigan State University\n",
    "\n",
    "Date: **April 17**"
   ]
  },
  {
   "cell_type": "markdown",
   "id": "ceccf782",
   "metadata": {
    "editable": true
   },
   "source": [
    "## Plans for the week of April 15-19\n",
    "\n",
    "1. Quantum Fourier transforms (QFT), reminder from last week\n",
    "\n",
    "2. Implementing QFTs\n",
    "\n",
    "3. Quantum phase estimation (QPE) and computation of eigenvalues\n",
    "\n",
    "4. Reading recommendations: Hundt's text **Quantum Computing for Programmers**, sections 6.1-6.4\n",
    "\n",
    "5. Discussion of other algorithms (Reading suggestions: Hundt's text sections 6.5-6.8)\n",
    "\n",
    "a. Order-finding\n",
    "\n",
    "b. Factoring\n",
    "\n",
    "c. Quantum search algorithms\n",
    "\n",
    "4. Discussion of project 2"
   ]
  },
  {
   "cell_type": "markdown",
   "id": "1085181d",
   "metadata": {
    "editable": true
   },
   "source": [
    "## QFT\n",
    "\n",
    "The Quantum Fourier Transform (QFT) has mathematically the same equation as starting point\n",
    "but the notation is generally different. We generally compute the\n",
    "quantum Fourier transform on a set of orthonormal basis state vectors\n",
    "\\(|0\\rangle, |1\\rangle, ..., |N-1\\rangle\\). The linear operator defining\n",
    "the transform is given by the action on basis states"
   ]
  },
  {
   "cell_type": "markdown",
   "id": "d3424a3a",
   "metadata": {
    "editable": true
   },
   "source": [
    "$$\n",
    "|j\\rangle \\mapsto \\frac{1}{\\sqrt{N}} \\sum_{k=0}^{N-1} e^{2\\pi ijk/N}|k\\rangle.\n",
    "$$"
   ]
  },
  {
   "cell_type": "markdown",
   "id": "358e1a4d",
   "metadata": {
    "editable": true
   },
   "source": [
    "## In terms of arbitrary states\n",
    "\n",
    "This can be written on arbitrary states,"
   ]
  },
  {
   "cell_type": "markdown",
   "id": "10862198",
   "metadata": {
    "editable": true
   },
   "source": [
    "$$\n",
    "\\sum_{j=0}^{N-1}x_j|j\\rangle \\mapsto \\sum_{k=0}^{N-1} y_k|k\\rangle\n",
    "$$"
   ]
  },
  {
   "cell_type": "markdown",
   "id": "f306763b",
   "metadata": {
    "editable": true
   },
   "source": [
    "where each amplitude \\(y_k\\) is the discrete Fourier transform of\n",
    "\\(x_j\\)."
   ]
  },
  {
   "cell_type": "markdown",
   "id": "d3585aa9",
   "metadata": {
    "editable": true
   },
   "source": [
    "## Unitarity\n",
    "\n",
    "The quantum Fourier transform is unitary. Taking \\(N = 2^n\\),\n",
    "for \\(n\\) qubits gives us the orthonormal (computational) basis"
   ]
  },
  {
   "cell_type": "markdown",
   "id": "2b6460a5",
   "metadata": {
    "editable": true
   },
   "source": [
    "$$\n",
    "|0\\rangle, |1\\rangle, ..., |2^{n}-1\\rangle.\n",
    "$$"
   ]
  },
  {
   "cell_type": "markdown",
   "id": "a863345a",
   "metadata": {
    "editable": true
   },
   "source": [
    "## Binary representation\n",
    "\n",
    "Each of the computational basis states can be represented in binary"
   ]
  },
  {
   "cell_type": "markdown",
   "id": "ead440d1",
   "metadata": {
    "editable": true
   },
   "source": [
    "$$\n",
    "j = j_1j_2 \\cdots j_n\n",
    "$$"
   ]
  },
  {
   "cell_type": "markdown",
   "id": "d2c8d153",
   "metadata": {
    "editable": true
   },
   "source": [
    "where each \\(j_k\\) is either \\(0\\) or \\(1\\), and the corresponding\n",
    "binary vector is \\(|j_1j_2 \\cdots j_n\\rangle\\)."
   ]
  },
  {
   "cell_type": "markdown",
   "id": "8190a233",
   "metadata": {
    "editable": true
   },
   "source": [
    "## Rewriting the QFT\n",
    "\n",
    "The quantum Fourier\n",
    "transform on one of these \\(n\\)-qubit vectors can be written as,"
   ]
  },
  {
   "cell_type": "markdown",
   "id": "ecaf55fa",
   "metadata": {
    "editable": true
   },
   "source": [
    "$$\n",
    "\\begin{align*}\n",
    "|j_1j_2 \\cdots j_n \\rangle = \\frac{\\left(|0\\rangle +e^{2\\pi i0.j_n}|1\\rangle\\right) \\otimes \\left(|0\\rangle +e^{2\\pi i0.j_{n-1}j_n}|1\\rangle\\right) \\otimes \\cdots \\otimes \\left(|0\\rangle +e^{2\\pi i0.j_1j_2 \\cdots j_n}|1\\rangle\\right)}{2^{n/2}}\n",
    "\\end{align*}\n",
    "$$"
   ]
  },
  {
   "cell_type": "markdown",
   "id": "b74f76ac",
   "metadata": {
    "editable": true
   },
   "source": [
    "## Short hand notation\n",
    "\n",
    "In the above, we use the notation"
   ]
  },
  {
   "cell_type": "markdown",
   "id": "fb9747d6",
   "metadata": {
    "editable": true
   },
   "source": [
    "$$\n",
    "0.j_lj_{l+1} \\cdots j_n = \\frac{j+l}{2} + \\frac{j_{l+1}}{2^2} + \\cdots + \\frac{j_n}{2^{m-l+1}}\n",
    "$$"
   ]
  },
  {
   "cell_type": "markdown",
   "id": "6e222d9c",
   "metadata": {
    "editable": true
   },
   "source": [
    "## Four qubit system\n",
    "The basis states are"
   ]
  },
  {
   "cell_type": "markdown",
   "id": "570c0d4e",
   "metadata": {
    "editable": true
   },
   "source": [
    "$$\n",
    "|j_1j_2j_3j_4 \\rangle\n",
    "$$"
   ]
  },
  {
   "cell_type": "markdown",
   "id": "7b770146",
   "metadata": {
    "editable": true
   },
   "source": [
    "where \\(j_k\\) is either \\(0\\) or \\(1\\). We have"
   ]
  },
  {
   "cell_type": "markdown",
   "id": "98a28be6",
   "metadata": {
    "editable": true
   },
   "source": [
    "$$\n",
    "\\begin{align*}\n",
    "0.j_3 &= \\frac{j_3}{2} \\\\\n",
    "0.j_2j_3 &= \\frac{j_2}{2} + \\frac{j_3}{4} \\\\\n",
    "0.j_1j_2j_3 &= \\frac{j_1}{2} + \\frac{j_2}{4} + \\frac{j_3}{8} \\\\\n",
    "0.j_0j_1j_2j_3 &= \\frac{j_0}{2} + \\frac{j_1}{4} + \\frac{j_2}{8} + \\frac{j_3}{16} \\\\\n",
    "\\end{align*}\n",
    "$$"
   ]
  },
  {
   "cell_type": "markdown",
   "id": "99361e51",
   "metadata": {
    "editable": true
   },
   "source": [
    "## QFT acts as follows\n",
    "\n",
    "The quantum Fourier transform acts as follows:"
   ]
  },
  {
   "cell_type": "markdown",
   "id": "95f67c61",
   "metadata": {
    "editable": true
   },
   "source": [
    "$$\n",
    "\\begin{align*}\n",
    "|j_1j_2j_3j_4 \\rangle \\mapsto \\frac{1}{\\sqrt{2^{4/2}}}\n",
    "\\left(|0\\rangle + e^{2 \\pi i 0.j4}|1\\rangle \\right) \\otimes \n",
    "\\left(|0\\rangle + e^{2 \\pi i 0.j_3j4}|1\\rangle \\right) \\otimes \n",
    "\\left(|0\\rangle + e^{2 \\pi i 0.j_2j_3j4}|1\\rangle \\right) \\otimes \n",
    "\\left(|0\\rangle + e^{2 \\pi i 0.j_1j_2j_3j4}|1\\rangle \\right) \n",
    "\\end{align*}\n",
    "$$"
   ]
  },
  {
   "cell_type": "markdown",
   "id": "f728deea",
   "metadata": {
    "editable": true
   },
   "source": [
    "## Quantum circuits\n",
    "\n",
    "To compose a quantum circuit that calculates the quantum Fourier\n",
    "transform we use the operators"
   ]
  },
  {
   "cell_type": "markdown",
   "id": "86a9f03e",
   "metadata": {
    "editable": true
   },
   "source": [
    "$$\n",
    "\\begin{align*}\n",
    "R_k = \n",
    "\\begin{bmatrix}\n",
    "1 & 0 \\\\\n",
    "0 & e^{2\\pi i/2^k}\n",
    "\\end{bmatrix}.\n",
    "\\end{align*}\n",
    "$$"
   ]
  },
  {
   "cell_type": "markdown",
   "id": "ed8017e6",
   "metadata": {
    "editable": true
   },
   "source": [
    "## Rotation gates\n",
    "\n",
    "In this example, the \\(R_k\\) gates are:"
   ]
  },
  {
   "cell_type": "markdown",
   "id": "57d2413a",
   "metadata": {
    "editable": true
   },
   "source": [
    "$$\n",
    "\\begin{align*}\n",
    "R_1 = \\begin{bmatrix}\n",
    "1 & 0 \\\\\n",
    "0 & e^{2 \\pi i /2^0}\n",
    "\\end{bmatrix} = \n",
    "\\begin{bmatrix}\n",
    "1 & 0 \\\\\n",
    "0 & 1\n",
    "\\end{bmatrix}, \\quad \n",
    "R_2 = \\begin{bmatrix}\n",
    "1 & 0 \\\\\n",
    "0 & e^{2 \\pi i /2^2}\n",
    "\\end{bmatrix}, \\quad \n",
    "R_3 = \\begin{bmatrix}\n",
    "1 & 0 \\\\\n",
    "0 & e^{2 \\pi i /2^3}\n",
    "\\end{bmatrix}, \\quad \n",
    "R_4 = \\begin{bmatrix}\n",
    "1 & 0 \\\\\n",
    "0 & e^{2 \\pi i /2^4}\n",
    "\\end{bmatrix}.\n",
    "\\end{align*}\n",
    "$$"
   ]
  },
  {
   "cell_type": "markdown",
   "id": "f49f3840",
   "metadata": {
    "editable": true
   },
   "source": [
    "## Using the Hadamard gate\n",
    "The Hadamard\n",
    "gate on a single qubit creates an equal superposition of its basis\n",
    "states, assuming it is not already in a superposition, such that"
   ]
  },
  {
   "cell_type": "markdown",
   "id": "324b58ba",
   "metadata": {
    "editable": true
   },
   "source": [
    "$$\n",
    "H\\vert 0 \\rangle = \\frac{1}{\\sqrt{2}} \\left(\\vert 0 \\rangle + \\vert 1\\rangle\\right), \\quad H\\vert 1\\rangle = \\frac{1}{\\sqrt{2}} \\left(\\vert 0 \\rangle - \\vert 1\\rangle\\right)\n",
    "$$"
   ]
  },
  {
   "cell_type": "markdown",
   "id": "fd495bc6",
   "metadata": {
    "editable": true
   },
   "source": [
    "The $R_k$ gate simply adds a phase if the qubit it acts on is in the state $\\vert 1\\rangle$"
   ]
  },
  {
   "cell_type": "markdown",
   "id": "905b9981",
   "metadata": {
    "editable": true
   },
   "source": [
    "$$\n",
    "R_k\\vert 0 \\rangle = \\vert 0 \\rangle, \\quad R_k\\vert 1\\rangle = e^{2\\pi i/2^{k}}\\vert 1\\rangle\n",
    "$$"
   ]
  },
  {
   "cell_type": "markdown",
   "id": "8d0b4d83",
   "metadata": {
    "editable": true
   },
   "source": [
    "Since all this gates are unitary, the quantum Fourier transfrom is also unitary."
   ]
  },
  {
   "cell_type": "markdown",
   "id": "7761f98d",
   "metadata": {
    "editable": true
   },
   "source": [
    "## Algorithm\n",
    "\n",
    "Assume we have a quantum register of $n$ qubits in the state $\\vert j_1 j_2 \\dots j_n\\rangle$.\n",
    "Applying the Hadamard gate to the first qubit\n",
    "produces the state"
   ]
  },
  {
   "cell_type": "markdown",
   "id": "991989e0",
   "metadata": {
    "editable": true
   },
   "source": [
    "$$\n",
    "H\\vert j_1 j_2 \\dots j_n\\rangle = \\frac{\\left(\\vert 0 \\rangle + e^{2\\pi i 0.j_1}\\vert 1\\rangle\\right)}{2^{1/2}} \\vert j_2 \\dots j_n\\rangle.\n",
    "$$"
   ]
  },
  {
   "cell_type": "markdown",
   "id": "4da5b488",
   "metadata": {
    "editable": true
   },
   "source": [
    "## Binary fraction\n",
    "\n",
    "Here we have made use of the binary fraction to represent the action of the Hadamard gate"
   ]
  },
  {
   "cell_type": "markdown",
   "id": "54c2f52d",
   "metadata": {
    "editable": true
   },
   "source": [
    "$$\n",
    "\\exp{2\\pi i 0.j_1} = -1,\n",
    "$$"
   ]
  },
  {
   "cell_type": "markdown",
   "id": "cf9fe855",
   "metadata": {
    "editable": true
   },
   "source": [
    "if $j_1 = 1$ and $+1$ if $j_1 = 0$."
   ]
  },
  {
   "cell_type": "markdown",
   "id": "7f74cf98",
   "metadata": {
    "editable": true
   },
   "source": [
    "## Controlled rotation gate\n",
    "\n",
    "Furthermore we can apply the controlled-$R_k$ gate, with all the other qubits $j_k$ for $k>1$ as control qubits to produce the state"
   ]
  },
  {
   "cell_type": "markdown",
   "id": "6ff876e3",
   "metadata": {
    "editable": true
   },
   "source": [
    "$$\n",
    "\\frac{\\left(\\vert 0 \\rangle + e^{2\\pi i 0.j_1j_2\\dots j_n}\\vert 1\\rangle\\right)}{2^{1/2}} \\vert j_2 \\dots j_n\\rangle\n",
    "$$"
   ]
  },
  {
   "cell_type": "markdown",
   "id": "39f4c6b4",
   "metadata": {
    "editable": true
   },
   "source": [
    "Next we do the same procedure on qubit $2$ producing the state"
   ]
  },
  {
   "cell_type": "markdown",
   "id": "451aca4f",
   "metadata": {
    "editable": true
   },
   "source": [
    "$$\n",
    "\\frac{\\left(\\vert 0 \\rangle + e^{2\\pi i 0.j_1j_2\\dots j_n}\\vert 1\\rangle\\right)\\left(\\vert 0 \\rangle + e^{2\\pi i 0.j_2\\dots j_n}\\vert 1\\rangle\\right)}{2^{2/2}} \\vert j_2 \\dots j_n\\rangle\n",
    "$$"
   ]
  },
  {
   "cell_type": "markdown",
   "id": "42884ec3",
   "metadata": {
    "editable": true
   },
   "source": [
    "## Applying to all qubits\n",
    "\n",
    "Doing this for all $n$ qubits yields state"
   ]
  },
  {
   "cell_type": "markdown",
   "id": "c5618787",
   "metadata": {
    "editable": true
   },
   "source": [
    "$$\n",
    "\\frac{\\left(\\vert 0 \\rangle + e^{2\\pi i 0.j_1j_2\\dots j_n}\\vert 1\\rangle\\right)\\left(\\vert 0 \\rangle + e^{2\\pi i 0.j_2\\dots j_n}\\vert 1\\rangle\\right)\\dots \\left(\\vert 0 \\rangle + e^{2\\pi i 0.j_n}\\vert 1\\rangle\\right)}{2^{n/2}} \\vert j_2 \\dots j_n\\rangle\n",
    "$$"
   ]
  },
  {
   "cell_type": "markdown",
   "id": "108ab711",
   "metadata": {
    "editable": true
   },
   "source": [
    "At the end we use swap gates to reverse the order of the qubits"
   ]
  },
  {
   "cell_type": "markdown",
   "id": "67416002",
   "metadata": {
    "editable": true
   },
   "source": [
    "$$\n",
    "\\frac{\\left(\\vert 0 \\rangle + e^{2\\pi i 0.j_n}\\vert 1\\rangle\\right)\\left(\\vert 0 \\rangle + e^{2\\pi i 0.j_{n-1}j_n}\\vert 1\\rangle\\right)\\dots\\left(\\vert 0 \\rangle + e^{2\\pi i 0.j_1j_2\\dots j_n}\\vert 1\\rangle\\right) }{2^{n/2}} \\vert j_2 \\dots j_n\\rangle\n",
    "$$"
   ]
  },
  {
   "cell_type": "markdown",
   "id": "0d76279e",
   "metadata": {
    "editable": true
   },
   "source": [
    "This is just the product representation from earlier, obviously our desired output."
   ]
  },
  {
   "cell_type": "markdown",
   "id": "daa3fd61",
   "metadata": {
    "editable": true
   },
   "source": [
    "## Plans for the week of April 22-26\n",
    "\n",
    "1. Summary of algorithms and discussion of project 2\n",
    "\n",
    "2. Discussion of  physical realizations of quantum computers"
   ]
  }
 ],
 "metadata": {},
 "nbformat": 4,
 "nbformat_minor": 5
}
