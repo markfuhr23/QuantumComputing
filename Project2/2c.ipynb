{
 "cells": [
  {
   "cell_type": "markdown",
   "metadata": {},
   "source": [
    "## QFT as simple matrix vector multiplication"
   ]
  },
  {
   "cell_type": "code",
   "execution_count": 46,
   "metadata": {},
   "outputs": [
    {
     "name": "stdout",
     "output_type": "stream",
     "text": [
      "Initial state: [1 0 0 0]\n",
      "QFT applied to initial state: [0.5+0.j 0.5+0.j 0.5+0.j 0.5+0.j]\n",
      "Inverse QFT applied to QFT state: [1.+0.j 0.+0.j 0.+0.j 0.+0.j]\n",
      "Unitary test of QFT [1.+0.j 0.+0.j 0.+0.j 0.+0.j]\n"
     ]
    }
   ],
   "source": [
    "\"\"\"\n",
    "We are trying to implement the QFT not on a quantum circuit basis, but rather on a mathematical basis according\n",
    "to Hundt 6.2. We need to find a way to\n",
    "1. create states\n",
    "2. perform QFT on a state\n",
    "3. perform inverse QFT on a state\n",
    "We do this to perform the QFT on 1, 2 or three qubits.\n",
    "\n",
    "As seen in Hundt's book and previous tasks, the QFT basically comes down to a matrix vector multiplication, so\n",
    "we spare us the heavy mathematical part and only implement this matrix vector multiplication.\n",
    "\"\"\"\n",
    "\n",
    "import numpy as np\n",
    "\n",
    "\n",
    "def omega(n):\n",
    "    return np.exp(2*np.pi*1j/2**n)\n",
    "\n",
    "def QFT(state, n):\n",
    "    # n: number of qubits\n",
    "    N = 2**n\n",
    "    # create a n x n dimensional np.array with ones in it\n",
    "    operator = np.ones((N,N), dtype=complex)\n",
    "    # now fill in the lower right square of the matrix with the powers of omega\n",
    "    for i in range(1,N):\n",
    "        for j in range(1,N):\n",
    "            operator[i,j] = omega(n)**(i*j)\n",
    "    # round for better view and add normalization\n",
    "    operator = np.round(operator*1/(N**0.5),4)\n",
    "    result = np.round(np.matmul(operator,state),4)\n",
    "    return result, operator\n",
    "\n",
    "def inverseQFT(state,n):\n",
    "    # n: number of qubits\n",
    "    N = n**2\n",
    "    # create a n x n dimensional np.array with ones in it\n",
    "    operator = np.ones((N,N), dtype=complex)\n",
    "    # now fill in the lower right square of the matrix with the powers of omega\n",
    "    for i in range(1,N):\n",
    "        for j in range(1,N):\n",
    "            operator[i,j] = omega(n)**(-i*j)\n",
    "    # round for better view and add normalization\n",
    "    operator = np.round(operator*1/(N**0.5),4)\n",
    "    result = np.round(np.matmul(operator,state),4)\n",
    "    return result\n",
    "\n",
    "state = np.array([1,0,0,0])\n",
    "QFTstate, operator = QFT(state,2)\n",
    "hermitianOp = operator.conj().T\n",
    "print(f\"Initial state: {state}\")\n",
    "print(f\"QFT applied to initial state: {QFTstate}\")\n",
    "print(f\"Inverse QFT applied to QFT state: {inverseQFT(QFTstate,2)}\")\n",
    "print(f\"Unitary test of QFT {np.matmul(hermitianOp, QFTstate)}\")\n",
    "\n"
   ]
  },
  {
   "cell_type": "markdown",
   "metadata": {},
   "source": [
    "Now that we have added the functions to calculate the QFT just by finding out the QFT Matrix and multiplying it to the states we can do it for 1, 2 and 3 qubits and compare to our calculation by hand from the previous tasks."
   ]
  },
  {
   "cell_type": "code",
   "execution_count": 13,
   "metadata": {},
   "outputs": [
    {
     "name": "stdout",
     "output_type": "stream",
     "text": [
      "[[1. 1. 1.]\n",
      " [2. 1. 1.]\n",
      " [1. 1. 1.]]\n"
     ]
    }
   ],
   "source": [
    "operator = np.ones((3,3))\n",
    "operator[1,0] = 2\n",
    "print(operator)"
   ]
  },
  {
   "cell_type": "code",
   "execution_count": null,
   "metadata": {},
   "outputs": [],
   "source": []
  }
 ],
 "metadata": {
  "kernelspec": {
   "display_name": "Python 3",
   "language": "python",
   "name": "python3"
  },
  "language_info": {
   "codemirror_mode": {
    "name": "ipython",
    "version": 3
   },
   "file_extension": ".py",
   "mimetype": "text/x-python",
   "name": "python",
   "nbconvert_exporter": "python",
   "pygments_lexer": "ipython3",
   "version": "3.12.2"
  }
 },
 "nbformat": 4,
 "nbformat_minor": 2
}
