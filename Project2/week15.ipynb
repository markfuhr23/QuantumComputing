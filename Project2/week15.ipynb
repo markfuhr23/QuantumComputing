{
 "cells": [
  {
   "cell_type": "markdown",
   "id": "b54ecfca",
   "metadata": {
    "editable": true
   },
   "source": [
    "<!-- HTML file automatically generated from DocOnce source (https://github.com/doconce/doconce/)\n",
    "doconce format html week15.do.txt --no_mako -->\n",
    "<!-- dom:TITLE: Quantum Computing, Quantum Machine Learning and Quantum Information Theories -->"
   ]
  },
  {
   "cell_type": "markdown",
   "id": "bb381c2d",
   "metadata": {
    "editable": true
   },
   "source": [
    "# Quantum Computing, Quantum Machine Learning and Quantum Information Theories\n",
    "**Morten Hjorth-Jensen**, Department of Physics, University of Oslo and Department of Physics and Astronomy and Facility for Rare Isotope Beams, Michigan State University\n",
    "\n",
    "Date: **May 8, 2024**"
   ]
  },
  {
   "cell_type": "markdown",
   "id": "0e9303b2",
   "metadata": {
    "editable": true
   },
   "source": [
    "## Plan for the week of May 6-10\n",
    "1. Discussion of Shor's algorithm and order finding\n",
    "\n",
    "2. Reading suggestions: Hundt sections 6.4-6.6 and Nielsen and Chuang, sections 5.2-5.3\n",
    "<!-- o [Video of lecture at](https://youtu.be/OZdyky8UYdk) -->\n",
    "<!-- o [Whiteboard notes](https://github.com/CompPhysics/QuantumComputingMachineLearning/blob/gh-pages/doc/HandWrittenNotes/2024/NotesMay8.pdf) -->"
   ]
  },
  {
   "cell_type": "markdown",
   "id": "b101c8a9",
   "metadata": {
    "editable": true
   },
   "source": [
    "## QPE and Shor's algorithm\n",
    "\n",
    "The crucial observation of Shor was that there is an efficient quantum\n",
    "algorithm for the problem of period-finding and that factoring can be\n",
    "reduced to this, in the sense that an efficient algorithm for\n",
    "period-finding implies an efficient algorithm for factoring. The\n",
    "quantum phase estimation algorithm discussed earlier plays a central\n",
    "role in Shor's algorithm as well."
   ]
  },
  {
   "cell_type": "markdown",
   "id": "bc2330bd",
   "metadata": {
    "editable": true
   },
   "source": [
    "## Some history\n",
    "\n",
    "In 1994 Peter Shor found a polynomial time algorithm for the\n",
    "factorization of $n$-bit numbers on quantum computers, see\n",
    "<https://arxiv.org/abs/quant-ph/9508027>.\n",
    "\n",
    "The discovery generated a wave of enthusiasm for quantum\n",
    "computing. There are at least two reasons for this. One is the\n",
    "mathematical and intellectual challenge of the algorithm. Secondly,\n",
    "factorization plays an important role for the security of\n",
    "cryptographic protocols, which are based on factoring large integers."
   ]
  },
  {
   "cell_type": "markdown",
   "id": "49d686d2",
   "metadata": {
    "editable": true
   },
   "source": [
    "## What is the algorithm doing?\n",
    "\n",
    "In essence, Shor's algorithm reduces the factorization problem to the problem of finding the period of a function (to be discussed below). In addition, it uses quantum parallelism to find a superposition of all values of the function in one single step."
   ]
  },
  {
   "cell_type": "markdown",
   "id": "ef914135",
   "metadata": {
    "editable": true
   },
   "source": [
    "## Other algorithms: Simon's algorithm\n",
    "\n",
    "More material will be added here"
   ]
  }
 ],
 "metadata": {},
 "nbformat": 4,
 "nbformat_minor": 5
}
