{
 "cells": [
  {
   "cell_type": "markdown",
   "id": "6006d040",
   "metadata": {
    "editable": true
   },
   "source": [
    "<!-- HTML file automatically generated from DocOnce source (https://github.com/doconce/doconce/)\n",
    "doconce format html week14.do.txt --no_mako -->\n",
    "<!-- dom:TITLE: Quantum Computing, Quantum Machine Learning and Quantum Information Theories -->"
   ]
  },
  {
   "cell_type": "markdown",
   "id": "7c3df666",
   "metadata": {
    "editable": true
   },
   "source": [
    "# Quantum Computing, Quantum Machine Learning and Quantum Information Theories\n",
    "**Morten Hjorth-Jensen**, Department of Physics and Center for Computing in Science Education, University of Oslo, Norway\n",
    "\n",
    "Date: **April 24**"
   ]
  },
  {
   "cell_type": "markdown",
   "id": "a3876f16",
   "metadata": {
    "editable": true
   },
   "source": [
    "## Plans for the week of April 22-26\n",
    "\n",
    "1. Discussion of project 2\n",
    "\n",
    "2. Summary of quantum phase estimation algorithm\n",
    "\n",
    "3. Discussion of various quantum algorithms, see Hundt sections 6.4-6.6\n",
    "\n",
    "4. Reading suggestions: Hundt sections 6.4-6.6 and Nielsen and Chuang, sections 5.2-5.3\n",
    "\n",
    "5. [Video of lecture at](https://youtu.be/OZdyky8UYdk)\n",
    "\n",
    "6. [Whiteboard notes](https://github.com/CompPhysics/QuantumComputingMachineLearning/blob/gh-pages/doc/HandWrittenNotes/2024/NotesApril24.pdf)"
   ]
  },
  {
   "cell_type": "markdown",
   "id": "28ae4a4d",
   "metadata": {
    "editable": true
   },
   "source": [
    "## Brief reminder on Quantum Phase Estimation algorithm"
   ]
  },
  {
   "cell_type": "markdown",
   "id": "d612d8af",
   "metadata": {
    "editable": true
   },
   "source": [
    "## Basics of encryption algorithm, classical background, factoring\n",
    "\n",
    "Probably the most important quantum algorithm so far is Shor’s factoring algorithm [228]. It can\n",
    "find a factor of a composite number N in roughly (log N)2\n",
    "steps, which is polynomial in the length\n",
    "log N of the input. On the other hand, there is no known classical (deterministic or randomized)\n",
    "algorithm that can factor N in polynomial time."
   ]
  },
  {
   "cell_type": "markdown",
   "id": "dbffb52a",
   "metadata": {
    "editable": true
   },
   "source": [
    "## Basics of encryption algorithm, classical background"
   ]
  },
  {
   "cell_type": "markdown",
   "id": "fc23949c",
   "metadata": {
    "editable": true
   },
   "source": [
    "## QPE and Shor's algorithm\n",
    "\n",
    "The crucial observation of Shor was that there is an efficient quantum algorithm for the problem\n",
    "of period-finding and that factoring can be reduced to this, in the sense that an efficient algorithm\n",
    "for period-finding implies an efficient algorithm for factoring"
   ]
  }
 ],
 "metadata": {},
 "nbformat": 4,
 "nbformat_minor": 5
}
