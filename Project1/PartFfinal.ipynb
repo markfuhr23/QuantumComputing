{
 "cells": [
  {
   "cell_type": "markdown",
   "metadata": {},
   "source": [
    "# Doodle notebook. I dont think anything important is in here but I dont want to delete it\n"
   ]
  },
  {
   "cell_type": "code",
   "execution_count": 2,
   "metadata": {},
   "outputs": [
    {
     "name": "stdout",
     "output_type": "stream",
     "text": [
      "H :  [[ 1.+0.j  0.+0.j  0.+0.j -1.+0.j]\n",
      " [ 0.+0.j  0.+0.j  0.+0.j  0.+0.j]\n",
      " [ 0.+0.j  0.+0.j  0.+0.j  0.+0.j]\n",
      " [-1.+0.j  0.+0.j  0.+0.j -1.+0.j]]\n"
     ]
    }
   ],
   "source": [
    "import numpy as np\n",
    "import itertools\n",
    "\n",
    "# Define Pauli matrices\n",
    "I = np.array([[1, 0], [0, 1]])\n",
    "X = np.array([[0, 1], [1, 0]])\n",
    "Y = np.array([[0, -1j], [1j, 0]])\n",
    "Z = np.array([[1, 0], [0, -1]])\n",
    "# Define labels for the combinations of Pauli matrices\n",
    "labels2D = [\"\".join(combination) for combination in itertools.product(\"IXYZ\", repeat=2)]\n",
    "labels4D = [\"\".join(combination) for combination in itertools.product(\"IXYZ\", repeat=4)]\n",
    "# Create dictionaries to store Kronecker products for 2D and 4D cases\n",
    "products2D = {}\n",
    "products4D = {}\n",
    "\n",
    "# Calculate products and add to dictionary for 2D\n",
    "for label in labels2D:\n",
    "    kronecker_product = np.kron(eval(label[0]), eval(label[1]))\n",
    "    products2D[label] = kronecker_product\n",
    "\n",
    "# Now for 4D\n",
    "for label in labels4D:\n",
    "    kronecker_product = np.kron(eval(label[0]), eval(label[1]))\n",
    "    for pauli in label[2:]:\n",
    "        kronecker_product = np.kron(kronecker_product, eval(pauli))\n",
    "    products4D[label] = kronecker_product\n",
    "# define hamiltonian\n",
    "e = 1; V = 1; W = 0; N = 2\n",
    "H = e/2*(products2D[\"ZI\"]+products2D[\"IZ\"]) - (W+V)/2 * products2D[\"XX\"]-(W-V)/2*products2D[\"YY\"]\n",
    "\n",
    "print(\"H : \",H)"
   ]
  },
  {
   "cell_type": "code",
   "execution_count": null,
   "metadata": {},
   "outputs": [],
   "source": []
  }
 ],
 "metadata": {
  "kernelspec": {
   "display_name": "Python 3",
   "language": "python",
   "name": "python3"
  },
  "language_info": {
   "codemirror_mode": {
    "name": "ipython",
    "version": 3
   },
   "file_extension": ".py",
   "mimetype": "text/x-python",
   "name": "python",
   "nbconvert_exporter": "python",
   "pygments_lexer": "ipython3",
   "version": "3.12.2"
  }
 },
 "nbformat": 4,
 "nbformat_minor": 2
}
