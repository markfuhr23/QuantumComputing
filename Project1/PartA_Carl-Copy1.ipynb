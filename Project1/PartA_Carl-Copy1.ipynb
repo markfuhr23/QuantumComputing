{
 "cells": [
  {
   "cell_type": "markdown",
   "metadata": {},
   "source": [
    "## Part a)\n",
    "\n",
    "Write a function which sets up a one-qubit basis and apply the various\n",
    "Pauli matrices to these basis states. \n",
    " Apply the Hadamard and Phase\n",
    "gates to the same one-qubit basis states and study their actions on\n",
    "these states. "
   ]
  },
  {
   "cell_type": "code",
   "execution_count": 97,
   "metadata": {},
   "outputs": [],
   "source": [
    "import numpy as np\n",
    "import sympy as sp"
   ]
  },
  {
   "cell_type": "code",
   "execution_count": 98,
   "metadata": {},
   "outputs": [],
   "source": [
    "# LaTeX help\n",
    "\n",
    "def bmatrix(a):\n",
    "    \"\"\"Returns a LaTeX bmatrix\n",
    "\n",
    "    :a: numpy array\n",
    "    :returns: LaTeX bmatrix as a string\n",
    "    \"\"\"\n",
    "    if len(a.shape) > 2:\n",
    "        raise ValueError('bmatrix can at most display two dimensions')\n",
    "    lines = str(a).replace('[', '').replace(']', '').splitlines()\n",
    "    rv = [r'\\begin{bmatrix}']\n",
    "    rv += ['  ' + ' & '.join(l.split()) + r'\\\\' for l in lines]\n",
    "    rv +=  [r'\\end{bmatrix}']\n",
    "    return '\\n'.join(rv)"
   ]
  },
  {
   "cell_type": "code",
   "execution_count": 99,
   "metadata": {},
   "outputs": [
    {
     "name": "stdout",
     "output_type": "stream",
     "text": [
      "[[0 1]\n",
      " [1 0]] [[ 0.+0.j -0.-1.j]\n",
      " [ 0.+1.j  0.+0.j]] [[1 0]\n",
      " [0 1]] [[ 0.70710678  0.70710678]\n",
      " [ 0.70710678 -0.70710678]] [[ 1.+0.0000000e+00j  0.+0.0000000e+00j]\n",
      " [ 0.+0.0000000e+00j -1.+1.2246468e-16j]]\n",
      "Hadamard times b0:  [[0.70710678 0.70710678]]\n",
      "Phase times b0:  [[1.+0.j 0.+0.j]]\n",
      "\\begin{bmatrix}\n",
      "  0.70710678 & 0.70710678\\\\\n",
      "\\end{bmatrix}\n"
     ]
    }
   ],
   "source": [
    "# set up one qubit basis\n",
    "b0 = np.array([1,0])\n",
    "b1 = np.array([0,1])\n",
    "\n",
    "# define pauli matrices and Hadamard and phase gates\n",
    "sx = np.matrix([[0,1],[1,0]])\n",
    "sy = np.matrix([[0,-1j],[1j,0]])\n",
    "sz = np.matrix([[1,0],[0,1]])\n",
    "I = np.identity(2)\n",
    "Hadamard = 1/np.sqrt(2) * np.matrix([[1,1],[1,-1]])\n",
    "def phase(angle):\n",
    "    return np.matrix([[1,0],[0,np.exp(1j * angle)]])\n",
    "\n",
    "print(sx,sy,sz,Hadamard, phase(np.pi))\n",
    "# Apply Hadamard and Phase gates to the same one-qubit states\n",
    "\n",
    "print(\"Hadamard times b0: \", np.matmul(Hadamard, b0))\n",
    "print(\"Phase times b0: \", np.matmul(phase(np.pi), b0))\n",
    "\n",
    "print(bmatrix(np.matmul(Hadamard, b0)))"
   ]
  },
  {
   "cell_type": "code",
   "execution_count": 115,
   "metadata": {},
   "outputs": [
    {
     "name": "stdout",
     "output_type": "stream",
     "text": [
      "\\left[\\begin{matrix}\\frac{\\sqrt{2}}{2}\\\\\\frac{\\sqrt{2}}{2}\\end{matrix}\\right]\n",
      "\\left[\\begin{matrix}\\frac{1}{2}\\\\- \\frac{1}{2}\\\\\\frac{1}{2}\\\\\\frac{1}{2}\\end{matrix}\\right]\n"
     ]
    }
   ],
   "source": [
    "# Sympy calculations\n",
    "from sympy.physics.quantum import TensorProduct\n",
    "\n",
    "X = sp.Matrix([[0,1], [1,0]])\n",
    "Y = sp.Matrix([[0,-1j], [1j,0]])\n",
    "Z = sp.Matrix([[1,0], [0,-1]] )\n",
    "basis0 = sp.Matrix([1,0])\n",
    "basis1 = sp.Matrix([0,1])\n",
    "Hadamard_sp = 1/sp.sqrt(2) * sp.Matrix([[1,1],[1,-1]])\n",
    "\n",
    "# define Bell states\n",
    "phiPlus_sp = 1/sp.sqrt(2) * (TensorProduct(basis0,basis0) + TensorProduct(basis1,basis1))\n",
    "\n",
    "CNOT_sp = sp.Matrix([[1,0,0,0],[0,0,0,1],[0,0,1,0],[0,1,0,0]])\n",
    "\n",
    "print(sp.latex(Hadamard_sp @ basis0))\n",
    "\n",
    "# \n",
    "tull = CNOT_sp @ TensorProduct(Hadamard_sp, sp.eye(2)) @ phiPlus_sp\n",
    "print(sp.latex(tull))"
   ]
  },
  {
   "cell_type": "markdown",
   "metadata": {},
   "source": [
    "Define also Bell states and write a code where you\n",
    "implement a Hadamard gate and thereafter a **CNOT** gate on one of the Bell\n",
    "states of your choice. Perform thereafter a measurement on the first qubit and\n",
    "thereafter on the second qubit. The measurements should be performed \n",
    "several times and it is the average results of these measurements\n",
    "which should be discussed and presented.\n",
    "\n",
    "Compare your code with the results obtained using **Qiskit** from the lectures of week 5."
   ]
  },
  {
   "cell_type": "code",
   "execution_count": 15,
   "metadata": {},
   "outputs": [
    {
     "name": "stdout",
     "output_type": "stream",
     "text": [
      "All Bell States\n",
      "[[ 0.70710678  0.          0.          0.70710678]\n",
      " [ 0.70710678  0.          0.         -0.70710678]\n",
      " [ 0.          0.70710678  0.70710678  0.        ]\n",
      " [ 0.          0.70710678 -0.70710678  0.        ]]\n",
      "Hadamard 4D: \n",
      "[[ 0.5  0.5  0.5  0.5]\n",
      " [ 0.5 -0.5  0.5 -0.5]\n",
      " [ 0.5  0.5 -0.5 -0.5]\n",
      " [ 0.5 -0.5 -0.5  0.5]]\n",
      "CNOT: \n",
      "[[1. 0. 0. 0.]\n",
      " [0. 0. 0. 1.]\n",
      " [0. 0. 1. 0.]\n",
      " [0. 1. 0. 0.]]\n",
      "Applied Hadamard and CNOT to bellState 0\n",
      "[[0.70710678]\n",
      " [0.70710678]\n",
      " [0.        ]\n",
      " [0.        ]]\n",
      "\\begin{bmatrix}\n",
      "  0.70710678\\\\\n",
      "  0.70710678\\\\\n",
      "  0.\\\\\n",
      "  0.\\\\\n",
      "\\end{bmatrix}\n",
      "bellState 0\n",
      "\\begin{bmatrix}\n",
      "  0.70710678 & 0. & 0. & 0.70710678\\\\\n",
      "\\end{bmatrix}\n"
     ]
    }
   ],
   "source": [
    "# define Bell states\n",
    "\n",
    "phiPlus = 1/np.sqrt(2) * (np.kron(b0,b0) + np.kron(b1,b1))\n",
    "phiMinus = 1/np.sqrt(2) * (np.kron(b0,b0) - np.kron(b1,b1))\n",
    "psiPlus = 1/np.sqrt(2) * (np.kron(b0,b1) + np.kron(b1,b0))\n",
    "psiMinus = 1/np.sqrt(2) * (np.kron(b0,b1) - np.kron(b1,b0))\n",
    "bellStates = np.array([phiPlus, phiMinus, psiPlus, psiMinus])\n",
    "print(\"All Bell States\")\n",
    "print(bellStates)\n",
    "\n",
    "\n",
    "# define 4D Hadamard and CNOT\n",
    "Hadamard4D = np.kron(Hadamard, Hadamard)\n",
    "CNOT = np.matrix([[1,0,0,0],[0,0,0,1],[0,0,1,0],[0,1,0,0]])\n",
    "CNOT = np.kron(I, np.matrix([[1,0],[0,0]])) + np.kron(sx, np.matrix([[0,0],[0,1]]))\n",
    "print(\"Hadamard 4D: \")\n",
    "print(Hadamard4D)\n",
    "print(\"CNOT: \")\n",
    "print(CNOT)\n",
    "\n",
    "# Apply first Hadamard4D on Bellstates and then CNOT on bell states\n",
    "\n",
    "# Apply hadamard\n",
    "product = np.matmul(Hadamard4D,bellStates[0])\n",
    "product = np.matmul(CNOT,product.T)\n",
    "print(\"Applied Hadamard and CNOT to bellState 0\")\n",
    "print(product)\n",
    "print(bmatrix(product))\n",
    "\n",
    "print(\"bellState 0\")\n",
    "print(bmatrix(bellStates[0]))"
   ]
  },
  {
   "cell_type": "markdown",
   "metadata": {},
   "source": [
    "Brute force without qiskit"
   ]
  },
  {
   "cell_type": "code",
   "execution_count": 35,
   "metadata": {},
   "outputs": [],
   "source": [
    "I = np.array(np.eye(2))\n",
    "H = 1/np.sqrt(2) * np.array([[1, 1], [1, -1]])\n",
    "X = np.array([[0, 1], [1, 0]])\n",
    "Y = np.array([[0, -1j], [1j, 0]])\n",
    "Z = np.array([[1, 0], [0, -1]])\n",
    "S = np.array([[1, 0], [0, 1j]])\n",
    "\n",
    "operators = {'I':I, 'H':H, 'X':X, 'Y':Y, 'Z':Z, 'S':S}"
   ]
  },
  {
   "cell_type": "code",
   "execution_count": 95,
   "metadata": {},
   "outputs": [
    {
     "name": "stdout",
     "output_type": "stream",
     "text": [
      "phiPlus = [0.70710678 0.         0.         0.70710678]\n",
      "state = [1.+0.j 0.+0.j]\n",
      "state2 = [[ 0.5 -0.5  0.5  0.5]]\n",
      "type(state2) = <class 'numpy.matrix'>\n",
      "Counter({0: 2547, 1: 2529, 2: 2511, 3: 2413})\n"
     ]
    },
    {
     "data": {
      "text/plain": [
       "array([[2547, '00'],\n",
       "       [2529, '01'],\n",
       "       [2511, '10'],\n",
       "       [2413, '11']], dtype=object)"
      ]
     },
     "execution_count": 95,
     "metadata": {},
     "output_type": "execute_result"
    }
   ],
   "source": [
    "# Help from ChatGPT on flattening lists in Python:\n",
    "def flatten(lst):\n",
    "    for sublist in lst:\n",
    "        for item in sublist:\n",
    "            yield item\n",
    "\n",
    "\n",
    "print(f'phiPlus = {phiPlus}')\n",
    "\n",
    "# from week2/ipynb/codeskeran.ipynb\n",
    "from collections import Counter\n",
    "\n",
    "def measure(state, n_shots=1):\n",
    "\n",
    "    probability = np.abs(state**2)\n",
    "    n_qubits = int(np.sqrt(len(state))) \n",
    "    allowed_outcomes = np.arange(len(state))\n",
    "        # print(state)\n",
    "    outcomes = np.random.choice(allowed_outcomes, p=probability, size = n_shots)\n",
    "#     print(f'outcomes = {outcomes}')\n",
    "#     print(f'probability = {probability}')\n",
    "    \n",
    "    state = np.zeros_like(state)\n",
    "    state[outcomes[-1]] = 1\n",
    "    counts = Counter(outcomes)\n",
    "    print(counts)\n",
    "    outcomes_count = np.zeros((len(state),2),dtype=object) # 2: state and count\n",
    "    for i in range(len(state)):\n",
    "        if i in counts:\n",
    "            outcomes_count[i] = counts[i], format(i, f\"0{n_qubits}b\")\n",
    "        else:\n",
    "            outcomes_count[i] = 0,format(i, f\"0{n_qubits}b\")\n",
    "                \n",
    "    return outcomes_count\n",
    "\n",
    "state = np.array([1,0], dtype=np.complex128)\n",
    "H_state = operators['H'] @ state\n",
    "print(f'state = {state}')\n",
    "print(f'state2 = {state2}')\n",
    "# state2 = np.array([ 0.5, -0.5,  0.5,  0.5], dtype=np.complex128)\n",
    "state2 = CNOT @ np.kron(H, I) @ phiPlus\n",
    "flattened_array = np.array(state2.flatten())\n",
    "print(f'type(state2) = {type(state2)}')\n",
    "# print(f'list(flatten(state2)) = {list(flatten(state2))}')\n",
    "# measure(state, n_shots=1000)\n",
    "# measure(H_state, n_shots=1000)\n",
    "\n",
    "# We set the seed so that we can reproduce the results.\n",
    "# Set the seed\n",
    "np.random.seed(42)\n",
    "measure(flattened_array[0], n_shots=10000)"
   ]
  },
  {
   "cell_type": "code",
   "execution_count": 16,
   "metadata": {},
   "outputs": [
    {
     "name": "stdout",
     "output_type": "stream",
     "text": [
      "Projection operator first qubit: \n",
      "[[1. 0. 0. 0.]\n",
      " [0. 1. 0. 0.]\n",
      " [0. 0. 0. 0.]\n",
      " [0. 0. 0. 0.]]\n",
      "Measurement performed on first qubit:  [[0.5]]\n",
      "Projection operator second qubit: \n",
      "[[0. 0. 0. 0.]\n",
      " [0. 1. 0. 0.]\n",
      " [0. 0. 0. 0.]\n",
      " [0. 0. 0. 1.]]\n",
      "Measurement performed on second qubit:  [[0.5]]\n"
     ]
    }
   ],
   "source": [
    "\n",
    "# perform measurement on first qubit (<psi| |0><0| x 1 |psi> )\n",
    "# first qubit\n",
    "proj0 = np.kron(np.reshape(np.kron(b0,b0),(2,2)), I)\n",
    "print(\"Projection operator first qubit: \")\n",
    "print(proj0)\n",
    "print(\"Measurement performed on first qubit: \", np.matmul(bellStates[0],np.matmul(proj0.T, product)))\n",
    "# second qubit\n",
    "proj1 = np.kron(I,np.reshape(np.kron(b1,b1),(2,2)))\n",
    "print(\"Projection operator second qubit: \")\n",
    "print(proj1)\n",
    "print(\"Measurement performed on second qubit: \", np.matmul(bellStates[0],np.matmul(proj0.T, product)))\n"
   ]
  },
  {
   "cell_type": "code",
   "execution_count": 86,
   "metadata": {},
   "outputs": [
    {
     "name": "stdout",
     "output_type": "stream",
     "text": [
      "proj0 = [[1. 0. 0. 0.]\n",
      " [0. 1. 0. 0.]\n",
      " [0. 0. 0. 0.]\n",
      " [0. 0. 0. 0.]]\n",
      "[0.70710678 0.         0.         0.70710678]\n",
      "state2 = [[ 0.5 -0.5  0.5  0.5]]\n",
      "type(state2) = <class 'numpy.matrix'>\n",
      "flattened_array = [[ 0.5 -0.5  0.5  0.5]]\n",
      "type(flattened_array) = <class 'numpy.ndarray'>\n",
      "[ 0.5 -0.5  0.5  0.5]\n",
      "[[ 0.5 -0.5  0.5  0.5]]\n"
     ]
    }
   ],
   "source": [
    "print(f'proj0 = {proj0}')\n",
    "print(phiPlus)\n",
    "# type(phiPlus)\n",
    "# type(H_state)\n",
    "# H_state @ phiPlus\n",
    "# np.kron(H_state, I) @ phiPlus\n",
    "# state2 = Hadamard4D @ CNOT @ phiPlus\n",
    "state2 = CNOT @ np.kron(H, I) @ phiPlus\n",
    "print(f'state2 = {state2}')\n",
    "print(f'type(state2) = {type(state2)}')\n",
    "flattened_array = np.array(state2.flatten())\n",
    "print(f'flattened_array = {flattened_array}')\n",
    "print(f'type(flattened_array) = {type(flattened_array)}')\n",
    "print(flattened_array[0])\n",
    "print(state2[0])"
   ]
  },
  {
   "cell_type": "markdown",
   "metadata": {},
   "source": [
    "# Comparison with qiskit"
   ]
  },
  {
   "cell_type": "code",
   "execution_count": 19,
   "metadata": {},
   "outputs": [
    {
     "data": {
      "text/html": [
       "<pre style=\"word-wrap: normal;white-space: pre;background: #fff0;line-height: 1.1;font-family: &quot;Courier New&quot;,Courier,monospace\">      ┌───┐┌─┐\n",
       "  q3: ┤ X ├┤M├\n",
       "      └───┘└╥┘\n",
       "c2: 1/══════╩═\n",
       "            0 </pre>"
      ],
      "text/plain": [
       "      ┌───┐┌─┐\n",
       "  q3: ┤ X ├┤M├\n",
       "      └───┘└╥┘\n",
       "c2: 1/══════╩═\n",
       "            0 "
      ]
     },
     "execution_count": 19,
     "metadata": {},
     "output_type": "execute_result"
    }
   ],
   "source": [
    "import qiskit as qk\n",
    "from qiskit import QuantumRegister, ClassicalRegister, QuantumCircuit\n",
    "from qiskit.visualization import plot_histogram\n",
    "from qiskit_aer import AerSimulator\n",
    "import matplotlib.pyplot as plt\n",
    "import numpy as np\n",
    "from qiskit import transpile\n",
    "\n",
    "# initialize constants for quantum circuit\n",
    "nqubits = 1\n",
    "ncbits = 1\n",
    "qreg = qk.QuantumRegister(nqubits)\n",
    "creg = qk.ClassicalRegister(ncbits)\n",
    "\n",
    "# create circuit, apply gate and draw the circuit (you sadly can't draw multiple circuits, so just change the gate for each gate you want to analyze)\n",
    "c = qk.QuantumCircuit(qreg,creg)\n",
    "c.x(qreg[0])\n",
    "c.measure(qreg[0], creg[0])\n",
    "c.draw()"
   ]
  },
  {
   "cell_type": "code",
   "execution_count": 23,
   "metadata": {},
   "outputs": [],
   "source": [
    "simulator = AerSimulator()"
   ]
  },
  {
   "cell_type": "code",
   "execution_count": 54,
   "metadata": {
    "scrolled": true
   },
   "outputs": [
    {
     "name": "stderr",
     "output_type": "stream",
     "text": [
      "C:\\Users\\a504654\\AppData\\Local\\Temp\\ipykernel_22792\\712009985.py:42: DeprecationWarning: The function ``qiskit.execute_function.execute()`` is deprecated as of qiskit 0.46.0. It will be removed in the Qiskit 1.0 release. This function combines ``transpile`` and ``backend.run``, which is covered by ``Sampler`` :mod:`~qiskit.primitives`. Alternatively, you can also run :func:`.transpile` followed by ``backend.run()``.\n",
      "  job = qk.execute(state, simulator, shots=1000)\n"
     ]
    },
    {
     "data": {
      "image/png": "[encoded data removed]",
      "text/plain": [
       "<Figure size 1000x1000 with 4 Axes>"
      ]
     },
     "metadata": {},
     "output_type": "display_data"
    }
   ],
   "source": [
    "# initalize Bell states\n",
    "phi_plus = QuantumCircuit(2,2)\n",
    "phi_plus.h(0)\n",
    "phi_plus.cx(0,1)\n",
    "phi_plus.measure([0,1],[0,1])\n",
    "\n",
    "phi_minus = QuantumCircuit(2,2)\n",
    "phi_minus.h(0)\n",
    "phi_minus.cx(0,1)\n",
    "phi_minus.z(0) # you can flip 1 in this case too, but not both obviously\n",
    "phi_minus.measure([0,1],[0,1])\n",
    "\n",
    "psi_plus = QuantumCircuit(2,2)\n",
    "psi_plus.h(0)\n",
    "psi_plus.cx(0,1)\n",
    "psi_plus.x(0) \n",
    "psi_plus.measure([0,1],[0,1])\n",
    "\n",
    "psi_minus = QuantumCircuit(2,2)\n",
    "psi_minus.h(0)\n",
    "psi_minus.cx(0,1)\n",
    "psi_minus.x(0)\n",
    "psi_minus.z(0)\n",
    "psi_minus.measure([0,1],[0,1])\n",
    "\n",
    "bell_states = [phi_plus, phi_minus, psi_plus, psi_minus]\n",
    "\n",
    "\n",
    "# apply Hadamard and CNOT to every Bell state\n",
    "for i in range(0,4):\n",
    "    # Apply gates\n",
    "    bell_states[i].h(0)\n",
    "    bell_states[i].cx(0,1)\n",
    "    # measure the qubits and draw the circuit\n",
    "    bell_states[i].measure([0,1],[0,1])\n",
    "\n",
    "# Plot results\n",
    "all_results = []\n",
    "\n",
    "fig, axes = plt.subplots(2, 2, figsize=(10, 10))\n",
    "for i,state in enumerate(bell_states):\n",
    "    job = qk.execute(state, simulator, shots=1000)\n",
    "    new_circuit = transpile(state, simulator)\n",
    "    job =simulator.run(new_circuit, shots = 10000)\n",
    "    all_results.append(job.result().get_counts(state))\n",
    "    plot_histogram(all_results[-1], ax=axes[int(i/2),i%2])"
   ]
  }
 ],
 "metadata": {
  "kernelspec": {
   "display_name": "Python 3 (ipykernel)",
   "language": "python",
   "name": "python3"
  },
  "language_info": {
   "codemirror_mode": {
    "name": "ipython",
    "version": 3
   },
   "file_extension": ".py",
   "mimetype": "text/x-python",
   "name": "python",
   "nbconvert_exporter": "python",
   "pygments_lexer": "ipython3",
   "version": "3.10.9"
  }
 },
 "nbformat": 4,
 "nbformat_minor": 2
}
